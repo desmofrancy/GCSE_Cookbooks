{
 "cells": [
  {
   "cell_type": "markdown",
   "metadata": {
    "slideshow": {
     "slide_type": "slide"
    }
   },
   "source": [
    "# Data representation\n",
    "\n",
    "\n",
    "## How Computers work - binary!\n",
    "\n",
    "Computers are made up of complicated hardware that stores and processes data.\n",
    "\n",
    "If you break a computer down into its most basic components you have **millions of circuits that either allow electricity to flow, or not**.\n",
    "\n",
    "Imagine a whole row of light switches that you can switch on and off in different combinations to mean different things.\n",
    "\n",
    "Each switch is either on or off. It only has two states. That is why everything stored in a computer can be stored as a series of 1s and 0s. This is called **binary**.\n",
    "\n",
    "<img src=\"binary_count.gif\">\n"
   ]
  },
  {
   "cell_type": "markdown",
   "metadata": {
    "collapsed": true,
    "slideshow": {
     "slide_type": "slide"
    }
   },
   "source": [
    "# CPU\n",
    "\n",
    "The CPU is the brain of the computer – it tells the computer what to do and when.\n",
    "\n",
    "Has millions of tiny switches that can either be:\n",
    "\n",
    "### on or off\n",
    "### 1 or 0\n",
    "\n",
    "<img src=\"cpu.jpeg\" style=\"width: 400px;\">"
   ]
  },
  {
   "cell_type": "code",
   "execution_count": null,
   "metadata": {
    "collapsed": true
   },
   "outputs": [],
   "source": []
  }
 ],
 "metadata": {
  "celltoolbar": "Slideshow",
  "kernelspec": {
   "display_name": "Python 3",
   "language": "python",
   "name": "python3"
  },
  "language_info": {
   "codemirror_mode": {
    "name": "ipython",
    "version": 3
   },
   "file_extension": ".py",
   "mimetype": "text/x-python",
   "name": "python",
   "nbconvert_exporter": "python",
   "pygments_lexer": "ipython3",
   "version": "3.4.2"
  }
 },
 "nbformat": 4,
 "nbformat_minor": 0
}
