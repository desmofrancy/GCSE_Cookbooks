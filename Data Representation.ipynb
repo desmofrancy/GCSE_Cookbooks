{
 "cells": [
  {
   "cell_type": "markdown",
   "metadata": {
    "slideshow": {
     "slide_type": "slide"
    }
   },
   "source": [
    "## Breaking the code...\n",
    "\n",
    "Can you guess the phrase from this “code”?\n",
    "\n",
    "67 111 109 112 117 116 101 114 32 83 99 105 101 110 99 101 32 105 115 32 67 111 111 108 33"
   ]
  },
  {
   "cell_type": "markdown",
   "metadata": {
    "slideshow": {
     "slide_type": "slide"
    }
   },
   "source": [
    "# Learning Objectives\n",
    "\n",
    "Know that computers use the binary numbers to represent all data and instructions.\n",
    "\n",
    "* Outcome 1: Practise conversion between binary and denary.\n",
    "\n",
    "Understand that hexadecimal is a system used to simplify how binary is represented.\n",
    "\n",
    "* Outcome 2: Practise conversion between binary, denary and hexadecimal.\n",
    "\n",
    "Recognise the need for character sets"
   ]
  },
  {
   "cell_type": "markdown",
   "metadata": {
    "slideshow": {
     "slide_type": "slide"
    }
   },
   "source": [
    "# Data representation\n",
    "\n",
    "\n",
    "## How Computers work - binary!\n",
    "\n",
    "Computers are made up of complicated hardware that stores and processes data.\n",
    "\n",
    "If you break a computer down into its most basic components you have **millions of circuits that either allow electricity to flow, or not**.\n",
    "\n",
    "Imagine a whole row of light switches that you can switch on and off in different combinations to mean different things.\n",
    "\n",
    "Each switch is either on or off. It only has two states. That is why everything stored in a computer can be stored as a series of 1s and 0s. This is called **binary**.\n",
    "\n",
    "<img src=\"binary_count.gif\">\n"
   ]
  },
  {
   "cell_type": "markdown",
   "metadata": {
    "collapsed": true,
    "slideshow": {
     "slide_type": "slide"
    }
   },
   "source": [
    "# CPU\n",
    "\n",
    "We use a number system that uses 10 different numbers. (**Base 10** number system)\n",
    "\n",
    "This is called the **Denary System**.\n",
    "\n",
    "The CPU is the brain of the computer – it tells the computer what to do and when. \n",
    "<img src=\"cpu.jpeg\" style=\"width: 200px;\">\n",
    "Has millions of tiny switches that can either be:\n",
    "\n",
    "### on or off\n",
    "### 1 or 0\n",
    "\n",
    "\n",
    "\n",
    "Computers understand binary which is a **Base 2** number system as it only has two numbers\n"
   ]
  },
  {
   "cell_type": "markdown",
   "metadata": {
    "collapsed": true,
    "slideshow": {
     "slide_type": "slide"
    }
   },
   "source": [
    "## Binary to Denary\n",
    "\n",
    "### Convert the binary number 00101001 to denary\n"
   ]
  },
  {
   "cell_type": "markdown",
   "metadata": {
    "slideshow": {
     "slide_type": "slide"
    }
   },
   "source": [
    "## Which number?\n",
    "\n",
    "### 00010101\n",
    "#### 1. 19\n",
    "#### 2. 20\n",
    "#### 3. 21\n",
    "\n",
    "### 11111101\n",
    "#### 1. 251\n",
    "#### 2. 253\n",
    "#### 3. 254\n",
    "\n",
    "### 11010101\n",
    "#### 1. 212\n",
    "#### 2. 213\n",
    "#### 3. 214\n"
   ]
  },
  {
   "cell_type": "markdown",
   "metadata": {
    "slideshow": {
     "slide_type": "slide"
    }
   },
   "source": [
    "## Denary to Binary\n",
    "\n",
    "### Convert the denary number 200 to denary\n"
   ]
  },
  {
   "cell_type": "markdown",
   "metadata": {
    "slideshow": {
     "slide_type": "slide"
    }
   },
   "source": [
    "## Conversions in Python"
   ]
  },
  {
   "cell_type": "code",
   "execution_count": 20,
   "metadata": {
    "collapsed": false,
    "scrolled": true,
    "slideshow": {
     "slide_type": "subslide"
    }
   },
   "outputs": [
    {
     "name": "stdout",
     "output_type": "stream",
     "text": [
      "0b1001\n",
      "213\n",
      "213\n"
     ]
    }
   ],
   "source": [
    "# Denary to Binary\n",
    "\n",
    "# built-in bin function\n",
    "d2b = bin(9)\n",
    "print(d2b)\n",
    "\n",
    "#Binary to Denary\n",
    "\n",
    "# class int(x, base=10)\n",
    "# Return an integer object constructed from a number or string x\n",
    "b2d_1 = int('11010101',2)\n",
    "print(b2d_1)\n",
    "\n",
    "# Prefix 0b allows for python to use the right base.\n",
    "b2d_2 = 0b11010101\n",
    "print(b2d_2)"
   ]
  },
  {
   "cell_type": "markdown",
   "metadata": {},
   "source": [
    "# Learning Objectives\n",
    "\n",
    "Know that computers use the binary numbers to represent all data and instructions.\n",
    "\n",
    "* Outcome 1: Practise conversion between binary and denary.\n",
    "\n",
    "Understand that hexadecimal is a system used to simplify how binary is represented.\n",
    "\n",
    "* Outcome 2: Practise conversion between binary, denary and hexadecimal.\n",
    "\n",
    "Recognise the need for character sets"
   ]
  },
  {
   "cell_type": "markdown",
   "metadata": {
    "slideshow": {
     "slide_type": "slide"
    }
   },
   "source": [
    "## Hexadecimal\n",
    "\n",
    "Hexadecimal (or hex) is a base 16 system used to **simplify how binary is represented**. \n",
    "\n",
    "A hex digit can be any of the following 16 digits: 0 1 2 3 4 5 6 7 8 9 A B C D E F\n",
    "\n",
    "Each hex digit reflects a 4-bit binary sequence.\n",
    "\n",
    "This means an 8-bit binary number can be written using only two different hex digits - one hex digit for each nibble (or group of 4-bits). It is much easier to write numbers as hex than to write them as binary numbers."
   ]
  },
  {
   "cell_type": "markdown",
   "metadata": {
    "slideshow": {
     "slide_type": "slide"
    }
   },
   "source": [
    "## Hexadecimal\n",
    "\n",
    "It is important to note that **computers do not use hexadecimal** - it is used by humans to shorten binary to a more easily understandable form. Hexadecimal is translated into binary for computer use. \n",
    "\n",
    "Some examples of where hex is used include:\n",
    "\n",
    "1. colour references\n",
    "\n",
    "2. assembly language programs\n",
    "\n",
    "3. error messages\n"
   ]
  },
  {
   "cell_type": "markdown",
   "metadata": {
    "slideshow": {
     "slide_type": "slide"
    }
   },
   "source": [
    "## Converting hexadecimal\n",
    "\n",
    "**To convert denary numbers to hex, you need to remember the equivalent binary numbers for the first 16 hex digits.**\n",
    "\n",
    "<img src=\"DecBinHex1.png\">"
   ]
  },
  {
   "cell_type": "markdown",
   "metadata": {
    "slideshow": {
     "slide_type": "slide"
    }
   },
   "source": [
    "## Hexadecimal to Binary and Denary\n",
    "\n",
    "### Convert the hex number A4 to binary and denary\n",
    "\n"
   ]
  },
  {
   "cell_type": "markdown",
   "metadata": {
    "slideshow": {
     "slide_type": "slide"
    }
   },
   "source": [
    "## Denary to Hexadecimal\n",
    "\n",
    "### Convert the denary number 38 to hexadecimal"
   ]
  },
  {
   "cell_type": "markdown",
   "metadata": {
    "slideshow": {
     "slide_type": "slide"
    }
   },
   "source": [
    "## Exam question\n",
    "\n",
    "<img src=\"EQ1.png\">"
   ]
  },
  {
   "cell_type": "markdown",
   "metadata": {},
   "source": [
    "# Learning Objectives\n",
    "\n",
    "Know that computers use the binary numbers to represent all data and instructions.\n",
    "\n",
    "* Outcome 1: Practise conversion between binary and denary.\n",
    "\n",
    "Understand that hexadecimal is a system used to simplify how binary is represented.\n",
    "\n",
    "* Outcome 2: Practise conversion between binary, denary and hexadecimal.\n",
    "\n",
    "Recognise the need for character sets"
   ]
  },
  {
   "cell_type": "markdown",
   "metadata": {
    "slideshow": {
     "slide_type": "slide"
    }
   },
   "source": [
    "## Character set\n",
    "\n",
    "Every word is made up of symbols or characters. \n",
    "\n",
    "When you press a key on a keyboard, a number is generated that represents the symbol for that key. This is called a **character code**. \n",
    "\n",
    "A complete collection of characters is a **character set**.\n",
    "\n",
    "<img src=\"char.png\">"
   ]
  },
  {
   "cell_type": "markdown",
   "metadata": {
    "slideshow": {
     "slide_type": "slide"
    }
   },
   "source": [
    "## Character set\n",
    "\n",
    "In theory, anyone can create a character set. But it is important that computers can communicate so we use global standards for character sets.\n",
    "\n",
    "You can check what character encoding your web browser is using by looking in your browser settings:\n",
    "* Mozilla Firefox > Tools > Page Info: Encoding\n",
    "* Microsoft Internet Explorer > View > Encoding\n",
    "* Google Chrome > Tools > Encoding"
   ]
  },
  {
   "cell_type": "markdown",
   "metadata": {
    "slideshow": {
     "slide_type": "slide"
    }
   },
   "source": [
    "## ASCII\n",
    "\n",
    "The ASCII character set is a **7-bit** set of codes that allows **128** different characters. \n",
    "* That is enough for every upper-case letter, lower-case letter, digit and punctuation mark on most keyboards. \n",
    "\n",
    "ASCII is only used for the English language.\n",
    "\n",
    "<img src=\"asciiart.gif\" style=\"width: 200px;\">"
   ]
  },
  {
   "cell_type": "code",
   "execution_count": 16,
   "metadata": {
    "collapsed": false,
    "slideshow": {
     "slide_type": "subslide"
    }
   },
   "outputs": [
    {
     "name": "stdout",
     "output_type": "stream",
     "text": [
      "\n",
      "A picture of a dog...\n",
      " 0____\n",
      "  ||||\n",
      "\n"
     ]
    }
   ],
   "source": [
    "## ASCII art in Python\n",
    "\n",
    "print('''\n",
    "A picture of a dog...\n",
    " 0____\n",
    "  ||||\n",
    "''')"
   ]
  },
  {
   "cell_type": "markdown",
   "metadata": {
    "slideshow": {
     "slide_type": "slide"
    }
   },
   "source": [
    "## ASCII in Python\n",
    "\n",
    "How do I get the ASCII value of a character as an int in Python?\n",
    "\n",
    "Function ord() would get the int value of the char. \n",
    "In case you want to convert back after playing with the number, function chr() does the trick."
   ]
  },
  {
   "cell_type": "code",
   "execution_count": 23,
   "metadata": {
    "collapsed": false,
    "slideshow": {
     "slide_type": "slide"
    }
   },
   "outputs": [
    {
     "name": "stdout",
     "output_type": "stream",
     "text": [
      "97\n",
      "a\n",
      "d\n"
     ]
    }
   ],
   "source": [
    "e1 = ord('a')\n",
    "print(e1)\n",
    "\n",
    "e2 = chr(97)\n",
    "print(e2)\n",
    "\n",
    "e3 = chr(ord('a') + 3)\n",
    "print(e3)"
   ]
  },
  {
   "cell_type": "markdown",
   "metadata": {
    "slideshow": {
     "slide_type": "slide"
    }
   },
   "source": [
    "## Exam question\n",
    "\n",
    "<img src=\"EQ2.png\">"
   ]
  },
  {
   "cell_type": "markdown",
   "metadata": {
    "slideshow": {
     "slide_type": "slide"
    }
   },
   "source": [
    "## Unicode\n",
    "\n",
    "Unicode uses between 8 and 32 bits per character, so it can represent characters from languages from all around the world. \n",
    "* It is commonly used across the internet. \n",
    "* As it is larger than ASCII, it might take up more storage space when saving documents.\n",
    "\n",
    "<img src=\"unicode.png\">"
   ]
  },
  {
   "cell_type": "markdown",
   "metadata": {},
   "source": [
    "## Use the ASCII table (https://en.wikipedia.org/wiki/ASCII) or char function in Python and decode the message\n",
    "\n",
    "### 67 111 109 112 117 116 101 114 32 83 99 105 101 110 99 101 32 105 115 32 67 111 111 108 33\n",
    "\n"
   ]
  },
  {
   "cell_type": "code",
   "execution_count": 25,
   "metadata": {
    "collapsed": false
   },
   "outputs": [
    {
     "data": {
      "text/plain": [
       "'C'"
      ]
     },
     "execution_count": 25,
     "metadata": {},
     "output_type": "execute_result"
    }
   ],
   "source": []
  },
  {
   "cell_type": "code",
   "execution_count": null,
   "metadata": {
    "collapsed": true
   },
   "outputs": [],
   "source": []
  }
 ],
 "metadata": {
  "celltoolbar": "Slideshow",
  "kernelspec": {
   "display_name": "Python 3",
   "language": "python",
   "name": "python3"
  },
  "language_info": {
   "codemirror_mode": {
    "name": "ipython",
    "version": 3
   },
   "file_extension": ".py",
   "mimetype": "text/x-python",
   "name": "python",
   "nbconvert_exporter": "python",
   "pygments_lexer": "ipython3",
   "version": "3.4.2"
  }
 },
 "nbformat": 4,
 "nbformat_minor": 0
}
