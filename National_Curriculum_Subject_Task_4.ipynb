{
 "cells": [
  {
   "cell_type": "markdown",
   "metadata": {},
   "source": [
    "# Task 4"
   ]
  },
  {
   "cell_type": "markdown",
   "metadata": {},
   "source": [
    "Plan, design and create an algorithm in Python that calculates average speeds for a vehicle travelling through a section of the road. \n",
    "Inputs must include car registration, the speed limit, the distance, the entry and exit times. \n",
    "Output a list of those vehicles exceeding the speed limit set for that section of road. \n",
    "You must include a flowchart, pseudocode and the code in Python. \n",
    "Please show different versions of code, explaining errors you came across as well as how you overcame these issues. List any resources used."
   ]
  },
  {
   "cell_type": "markdown",
   "metadata": {},
   "source": [
    "## Flowchart"
   ]
  },
  {
   "cell_type": "markdown",
   "metadata": {},
   "source": [
    "<img src=\"Task_4.png\">"
   ]
  },
  {
   "cell_type": "markdown",
   "metadata": {},
   "source": [
    "## Version 1"
   ]
  },
  {
   "cell_type": "markdown",
   "metadata": {},
   "source": [
    "### Pseudocode"
   ]
  },
  {
   "cell_type": "markdown",
   "metadata": {},
   "source": [
    "start\n",
    "  open csv file\n",
    "\n",
    "  for every line in file\n",
    "    data = tokenizer of line\n",
    "\n",
    "    plate = data[0]\n",
    "    limit = data[1]\n",
    "    distance = line[2]\n",
    "    entry_time = data[3]\n",
    "    exit_time = data[4]\n",
    "\n",
    "    duration = exit_time - entry_time\n",
    "    secs = convert duration in seconds\n",
    "    hours = secs / 3600\n",
    "    velocity = distance / hours\n",
    "\n",
    "    if velocity > limit\n",
    "       write plate in output file\n",
    "    end if\n",
    "  end for\n",
    "  close files\n",
    "end"
   ]
  },
  {
   "cell_type": "markdown",
   "metadata": {},
   "source": [
    "### Python implementation"
   ]
  },
  {
   "cell_type": "markdown",
   "metadata": {},
   "source": [
    "#### Input"
   ]
  },
  {
   "cell_type": "markdown",
   "metadata": {},
   "source": [
    "Hypothesis: reading from the sensors/cameras are saved in a comma separated value (CSV) file. \n",
    "Each line in the file contains the car registration, the speed limit, the distance, the entry and exit times.\n",
    "Distance information is provided in miles.\n",
    "Time information is provided in the format dd/mm/yy hh:mm:ss."
   ]
  },
  {
   "cell_type": "code",
   "execution_count": 1,
   "metadata": {
    "collapsed": false
   },
   "outputs": [],
   "source": [
    "# Load CSV module to open the velocity.csv file\n",
    "import csv"
   ]
  },
  {
   "cell_type": "markdown",
   "metadata": {},
   "source": [
    "With the default options for open, it is possile to encounter the following error:\n",
    "\"new-line character seen in unquoted field - do you need to open the file in universal-newline mode?\"\n",
    "To solve this, as suggested by the error itself, it is necessary to open the file in universal-newline mode, therefore adding the option \"U\" (the default is just \"r\"). This error is due to an issue with the end-of-line convention that are different under different systems (e.g., \\n under Linux, \\r under Mac and \\r\\n under Windows). In this case it depends on the software used to create the csv file (e.g. MS Excel) and the OS under which the file is subsequently open."
   ]
  },
  {
   "cell_type": "code",
   "execution_count": 2,
   "metadata": {
    "collapsed": false
   },
   "outputs": [],
   "source": [
    "# Open csv file\n",
    "# csvfile = open( 'velocity.csv')\n",
    "csvfile = open( 'velocity.csv', 'rU' )\n",
    "\n",
    "# The Sniffer class is used to deduce the format of a CSV file.\n",
    "dialect = csv.Sniffer().sniff(csvfile.read(1024), delimiters=';,')\n",
    "csvfile.seek(0)\n",
    "reader = csv.reader(csvfile, dialect)"
   ]
  },
  {
   "cell_type": "code",
   "execution_count": 3,
   "metadata": {
    "collapsed": false
   },
   "outputs": [
    {
     "data": {
      "text/plain": [
       "['CAR REGISTRATION',\n",
       " 'SPEED LIMIT (miles/hour)',\n",
       " 'DISTANCE (miles)',\n",
       " 'ENTRY TIME t0',\n",
       " 'EXIT TIME t1']"
      ]
     },
     "execution_count": 3,
     "metadata": {},
     "output_type": "execute_result"
    }
   ],
   "source": [
    "# Read header\n",
    "header = reader.next()\n",
    "header"
   ]
  },
  {
   "cell_type": "code",
   "execution_count": 4,
   "metadata": {
    "collapsed": false
   },
   "outputs": [
    {
     "name": "stdout",
     "output_type": "stream",
     "text": [
      "[['BD51SMR', '50', '0.5', '16/10/15 18:30:00', '16/10/15 18:30:25'], ['AD51ZEC', '30', '0.5', '16/10/15 18:31:11', '16/10/15 18:31:48'], ['FD46SQI', '30', '0.5', '16/10/15 19:33:45', '16/10/15 19:34:21'], ['RD79YCS', '50', '0.5', '16/10/15 20:38:43', '16/10/15 20:39:14'], ['BD03UOR', '50', '0.5', '16/10/15 20:43:07', '16/10/15 20:43:56'], ['BD32RMA', '30', '0.5', '16/10/15 21:07:32', '16/10/15 21:08:02'], ['JD67HMY', '50', '0.5', '16/10/15 21:30:12', '16/10/15 21:30:35'], ['BL24KKG', '30', '0.5', '16/10/15 22:28:03', '16/10/15 22:28:25'], ['HW41BWX', '30', '0.5', '16/10/15 22:57:34', '16/10/15 22:58:03'], ['ED80STR', '50', '0.5', '16/10/15 23:59:45', '17/10/15 00:00:25']]\n"
     ]
    }
   ],
   "source": [
    "# List entries example\n",
    "velocity_list = list(reader)\n",
    "print velocity_list"
   ]
  },
  {
   "cell_type": "code",
   "execution_count": 5,
   "metadata": {
    "collapsed": false
   },
   "outputs": [
    {
     "name": "stdout",
     "output_type": "stream",
     "text": [
      "['BD51SMR', '50', '0.5', '16/10/15 18:30:00', '16/10/15 18:30:25']\n"
     ]
    }
   ],
   "source": [
    "# Read line from file. Each line corresponds to the information of a vehicle travelling through a section of the road.\n",
    "curr = velocity_list[0]\n",
    "print(curr)"
   ]
  },
  {
   "cell_type": "markdown",
   "metadata": {},
   "source": [
    "#### Calculate average speed"
   ]
  },
  {
   "cell_type": "code",
   "execution_count": 6,
   "metadata": {
    "collapsed": false
   },
   "outputs": [],
   "source": [
    "from datetime import datetime"
   ]
  },
  {
   "cell_type": "code",
   "execution_count": 7,
   "metadata": {
    "collapsed": false
   },
   "outputs": [],
   "source": [
    "# Extract distance between entry and exit points.\n",
    "# In our scenario we hypothesise that the distance is already provided in miles.\n",
    "distance = float(curr[2])\n",
    "#print(distance)"
   ]
  },
  {
   "cell_type": "code",
   "execution_count": 8,
   "metadata": {
    "collapsed": false
   },
   "outputs": [],
   "source": [
    "# Extract entry and exit time from the line. \n",
    "# In our scenario we hypothesise that the date and time information is provided in the format dd/mm/yy hh:mm:ss\n",
    "t0 = datetime.strptime(curr[3],'%d/%m/%y %H:%M:%S')\n",
    "t1 = datetime.strptime(curr[4],'%d/%m/%y %H:%M:%S')"
   ]
  },
  {
   "cell_type": "code",
   "execution_count": 9,
   "metadata": {
    "collapsed": false
   },
   "outputs": [],
   "source": [
    "# Calculate the delta between the entry end exit times and convert \n",
    "# it first to seconds (hours is not implemented as an attribute)\n",
    "duration = abs((t1 - t0))\n",
    "secs = duration.total_seconds()\n",
    "hours = float(secs / 3600) # Use hours to calculate the velocity\n",
    "# print(hours)"
   ]
  },
  {
   "cell_type": "code",
   "execution_count": 10,
   "metadata": {
    "collapsed": false
   },
   "outputs": [
    {
     "name": "stdout",
     "output_type": "stream",
     "text": [
      "72.0\n"
     ]
    }
   ],
   "source": [
    "velocity = round(distance / hours)\n",
    "print(velocity)"
   ]
  },
  {
   "cell_type": "markdown",
   "metadata": {},
   "source": [
    "#### Output"
   ]
  },
  {
   "cell_type": "code",
   "execution_count": 11,
   "metadata": {
    "collapsed": false
   },
   "outputs": [],
   "source": [
    "# Save the registration of vehicles exceeding the limits in a new file\n",
    "if velocity > float(curr[1]):\n",
    "    with open(\"speeders.txt\", \"a\") as myfile: # Use option 'a' to append\n",
    "        myfile.write(curr[0]+ '\\n') # \\n to start a new line after each registration"
   ]
  },
  {
   "cell_type": "markdown",
   "metadata": {},
   "source": [
    "## Version 2"
   ]
  },
  {
   "cell_type": "markdown",
   "metadata": {},
   "source": [
    "### Pseudocode"
   ]
  },
  {
   "cell_type": "markdown",
   "metadata": {},
   "source": [
    "function calcAverage(line):\n",
    "    distance = line[2]\n",
    "    entry_time = line[3]\n",
    "    exit_time = line[4]\n",
    "\n",
    "    duration = exit_time - entry_time\n",
    "    secs = convert duration in seconds\n",
    "    hours = secs / 3600\n",
    "\n",
    "    velocity = distance / hours\n",
    "\n",
    "    return velocity\n",
    "end   function\n",
    "\n",
    "\n",
    "\n",
    "start\n",
    "  open csv file\n",
    "\n",
    "  for every line in file\n",
    "    data = tokenizer of line\n",
    "    plate = data[0]\n",
    "    limit = data[1]\n",
    "\n",
    "    velocity = calcAverage(data)\n",
    "    if velocity > limit\n",
    "       write plate in output file\n",
    "    end if\n",
    "\n",
    "  end for\n",
    "  close files\n",
    "end"
   ]
  },
  {
   "cell_type": "markdown",
   "metadata": {},
   "source": [
    "### Python implementation"
   ]
  },
  {
   "cell_type": "markdown",
   "metadata": {},
   "source": [
    "#### Function to calculate average speed"
   ]
  },
  {
   "cell_type": "code",
   "execution_count": 12,
   "metadata": {
    "collapsed": false
   },
   "outputs": [],
   "source": [
    "from datetime import datetime\n",
    "\n",
    "def calcAverage(line):\n",
    "    # Extract distance between entry and exit points.\n",
    "    # In our scenario we hypothesise that the distance is already provided in miles.\n",
    "    distance = float(line[2])\n",
    "    # print(distance)\n",
    "    \n",
    "    # Extract entry and exit time from the line. \n",
    "    # In our scenario we hypothesise that the date and time information is provided \n",
    "    # in the format dd/mm/yy hh:mm:ss\n",
    "    t0 = datetime.strptime(line[3],'%d/%m/%y %H:%M:%S')\n",
    "    t1 = datetime.strptime(line[4],'%d/%m/%y %H:%M:%S')\n",
    "    \n",
    "    # Calculate the delta between the entry end exit times and convert \n",
    "    # it first to seconds (hours is not implemented as an attribute)\n",
    "    duration = abs((t1 - t0))\n",
    "    secs = duration.total_seconds()\n",
    "    hours = float(secs / 3600) # Use hours to calculate the velocity\n",
    "    # print(hours)\n",
    "    \n",
    "    velocity = round(distance / hours)\n",
    "    # Uncomment the following print to show the average speed calculated\n",
    "    # print(velocity)\n",
    "    return velocity\n",
    "    \n",
    "    "
   ]
  },
  {
   "cell_type": "markdown",
   "metadata": {},
   "source": [
    "#### Main"
   ]
  },
  {
   "cell_type": "code",
   "execution_count": 13,
   "metadata": {
    "collapsed": false
   },
   "outputs": [],
   "source": [
    "# Load CSV module to open the velocity.csv file\n",
    "import csv\n",
    "\n",
    "# Open csv file\n",
    "with open('velocity.csv','rU') as csvfile:\n",
    "    # The Sniffer class is used to deduce the format of a CSV file.\n",
    "    dialect = csv.Sniffer().sniff(csvfile.read(1024), delimiters=';,')\n",
    "    csvfile.seek(0)\n",
    "    reader = csv.reader(csvfile, dialect)\n",
    "    next(reader) # skip header line\n",
    "    for line in reader:\n",
    "        velocity = calcAverage(line)\n",
    "        if velocity > float(line[1]):\n",
    "            with open('speeders.txt', 'a') as myfile:\n",
    "                myfile.write(line[0]+ '\\n')"
   ]
  },
  {
   "cell_type": "markdown",
   "metadata": {},
   "source": [
    "## Notes"
   ]
  },
  {
   "cell_type": "markdown",
   "metadata": {},
   "source": [
    "Written in Python 2.7.9 (using Notebook and IPython version 2.2.0) on a Mac OS X, version 10.10.4. Implementation compatible with Python 3.\n",
    "Resources used to check functions https://docs.python.org\n",
    "Resources used to solve issues and optimise code http://stackoverflow.com"
   ]
  },
  {
   "cell_type": "markdown",
   "metadata": {},
   "source": [
    "#### Content of test input file velocities.cvs"
   ]
  },
  {
   "cell_type": "markdown",
   "metadata": {},
   "source": [
    "CAR REGISTRATION;SPEED LIMIT (miles/hour);DISTANCE (miles);ENTRY TIME t0;EXIT TIME t1  \n",
    "BD51SMR;50;0.5;16/10/15 18:30:00;16/10/15 18:30:25  \n",
    "AD51ZEC;30;0.5;16/10/15 18:31:11;16/10/15 18:31:48  \n",
    "FD46SQI;30;0.5;16/10/15 19:33:45;16/10/15 19:34:21  \n",
    "RD79YCS;50;0.5;16/10/15 20:38:43;16/10/15 20:39:14  \n",
    "BD03UOR;50;0.5;16/10/15 20:43:07;16/10/15 20:43:56  \n",
    "BD32RMA;30;0.5;16/10/15 21:07:32;16/10/15 21:08:02  \n",
    "JD67HMY;50;0.5;16/10/15 21:30:12;16/10/15 21:30:35  \n",
    "BL24KKG;30;0.5;16/10/15 22:28:03;16/10/15 22:28:25  \n",
    "HW41BWX;30;0.5;16/10/15 22:57:34;16/10/15 22:58:03  \n",
    "ED80STR;50;0.5;16/10/15 23:59:45;17/10/15 00:00:25  "
   ]
  },
  {
   "cell_type": "markdown",
   "metadata": {},
   "source": [
    "#### Corresponding speeders.txt output file "
   ]
  },
  {
   "cell_type": "markdown",
   "metadata": {},
   "source": [
    "BD51SMR  \n",
    "AD51ZEC  \n",
    "FD46SQI  \n",
    "RD79YCS  \n",
    "BD32RMA  \n",
    "JD67HMY  \n",
    "BL24KKG  \n",
    "HW41BWX  "
   ]
  },
  {
   "cell_type": "code",
   "execution_count": 13,
   "metadata": {
    "collapsed": false
   },
   "outputs": [],
   "source": []
  }
 ],
 "metadata": {
  "kernelspec": {
   "display_name": "Python 3",
   "language": "python",
   "name": "python3"
  },
  "language_info": {
   "codemirror_mode": {
    "name": "ipython",
    "version": 3
   },
   "file_extension": ".py",
   "mimetype": "text/x-python",
   "name": "python",
   "nbconvert_exporter": "python",
   "pygments_lexer": "ipython3",
   "version": "3.4.2"
  }
 },
 "nbformat": 4,
 "nbformat_minor": 0
}
