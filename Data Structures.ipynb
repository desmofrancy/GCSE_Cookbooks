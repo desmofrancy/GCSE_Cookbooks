{
 "cells": [
  {
   "cell_type": "markdown",
   "metadata": {
    "slideshow": {
     "slide_type": "slide"
    }
   },
   "source": [
    "### LEARNING AIMS\n",
    "* Recognise the need for data structures in code\n",
    "* Understand how arrays can be implemented in memory\n",
    "* Know how to create, retrieve and update data in arrays"
   ]
  },
  {
   "cell_type": "markdown",
   "metadata": {
    "slideshow": {
     "slide_type": "slide"
    }
   },
   "source": [
    "**Data structures** allow the programmer to store a large amount of related data together – the only alternative that we know of so far is to use a large number of variables. "
   ]
  },
  {
   "cell_type": "markdown",
   "metadata": {
    "slideshow": {
     "slide_type": "slide"
    }
   },
   "source": [
    "### EXAMPLE 1: FLIPPING A COIN\n",
    "If you flip a coin it is either heads or tails and, if you flip it often enough, the number of times you get a head and the number of times you get a tail will probably be similar. \n",
    "\n",
    "If we wanted to check this with a coin we might flip it 6 times and record the result each time (although instead of using ‘heads’ and ‘tails’ we’ll use a Boolean interpretation and use the value True for heads and False for tails).\n",
    "\n",
    "    flip1 ← True\n",
    "\n",
    "    flip2 ← False\n",
    "\n",
    "    flip3 ← False\n",
    "\n",
    "    flip4 ← True\n",
    "\n",
    "    flip5 ← True\n",
    "\n",
    "    flip6 ← True"
   ]
  },
  {
   "cell_type": "markdown",
   "metadata": {
    "slideshow": {
     "slide_type": "slide"
    }
   },
   "source": [
    "### EXAMPLE 1: FLIPPING A COIN\n",
    "\n",
    "Now if we wanted to use these variables to find the number of times a coin was a head we’d have to write a program something like this...\n"
   ]
  },
  {
   "cell_type": "markdown",
   "metadata": {
    "slideshow": {
     "slide_type": "subslide"
    }
   },
   "source": [
    "\n",
    "    number_of_heads ← 0\n",
    "    IF flip1 THEN # flip1 is equivalent to flip1 = True\n",
    "       number_of_heads ← number_of_heads + 1\n",
    "    ENDIF\n",
    "    IF flip2 THEN\n",
    "       number_of_heads ← number_of_heads + 1\n",
    "    ENDIF\n",
    "    IF flip3 THEN\n",
    "       number_of_heads ← number_of_heads + 1\n",
    "    ENDIF\n",
    "    # and so on until...\n",
    "    IF flip6 THEN\n",
    "       number_of_heads ← number_of_heads + 1\n",
    "    ENDIF"
   ]
  },
  {
   "cell_type": "markdown",
   "metadata": {
    "slideshow": {
     "slide_type": "notes"
    }
   },
   "source": [
    "You might be expecting this Boolean expression to be flip1 = True instead of just flip1 but they are logically the same. \n",
    "flip1 is a Boolean variable (hence either True or False): \n",
    "* if flip1 is False then the statement flip1 = True also evaluates to False, \n",
    "* whereas if flip1 is True then the statement flip1 = True also evaluates to True (because True is equal to True)."
   ]
  },
  {
   "cell_type": "markdown",
   "metadata": {
    "slideshow": {
     "slide_type": "slide"
    }
   },
   "source": [
    "## What is the problem with this approach?"
   ]
  },
  {
   "cell_type": "markdown",
   "metadata": {
    "slideshow": {
     "slide_type": "subslide"
    }
   },
   "source": [
    "There are a number of problems with this approach including, but not limited to:\n",
    "\n",
    "* the large amount of code needed to do something quite simple\n",
    "* the need for the programmer to keep track of a large number of very similar variables when they are developing their program\n",
    "* the fact that if the conditions for the program change (for instance running 30 tests instead of 6) the program will have to be substantially rewritten\n",
    "\n",
    "To overcome this issue, programmers can use data structures which are similar to variables but have some important differences. We will introduce different data structures as this book continues but we’ll start with one called an array."
   ]
  },
  {
   "cell_type": "markdown",
   "metadata": {
    "slideshow": {
     "slide_type": "slide"
    }
   },
   "source": [
    "We can create an array in a very similar way to declaring a variable but the assignment of\n",
    "values uses new syntax. This is our 6 coin flips rewritten in an array called coin_flips: \n",
    "\n",
    "coin_flips ← [True, False, False, True, True, True]\n",
    "\n",
    "Getting to the values in the array is incredibly easy – we just use the name of the array followed by the location of the value in the array."
   ]
  },
  {
   "cell_type": "code",
   "execution_count": null,
   "metadata": {
    "collapsed": false,
    "slideshow": {
     "slide_type": "slide"
    }
   },
   "outputs": [],
   "source": [
    "coin_flips = [True, False, False, True, True, True]\n",
    "\n",
    "# Complete the following instructions\n",
    "\n",
    "# 1. select the first element of the list\n",
    "coin_flips[]\n",
    "\n",
    "# 2. select the second element of the list\n",
    "coin_flips[]\n",
    "\n",
    "# 3. select the last element of the list\n",
    "coin_flips[]\n",
    "\n",
    "# 4. calculate the length of the list\n",
    "\n",
    "# 5. assign False to the first element of the list\n",
    "\n",
    "# 6. print the value stored in the first element of the list"
   ]
  },
  {
   "cell_type": "markdown",
   "metadata": {
    "slideshow": {
     "slide_type": "slide"
    }
   },
   "source": [
    "### ARRAYS & FOR-LOOPS\n",
    "Now we have the syntax for creating and assigning values within an array, we can combine this with loops to write expressive programs that allow dealing with the array as a single entity instead of all the elements separately.\n",
    "\n",
    "\n",
    "    ages ← [14, 16, 12, 17, 14]\n",
    "\n",
    "    total_ages ← ages[1] + ages[2] + ages[3] + ages[4] + ages[5]\n",
    "\n",
    "The code can be rewritten as:"
   ]
  },
  {
   "cell_type": "markdown",
   "metadata": {
    "slideshow": {
     "slide_type": "subslide"
    }
   },
   "source": [
    "    ages ← [14, 16, 12, 17, 14]\n",
    "    total_ages ← 0\n",
    "    FOR i ← 1 TO 5\n",
    "       total_ages ← total_ages + ages[i]\n",
    "    ENDFOR\n",
    "\n",
    "Modify this program to work out the mean average of our ages "
   ]
  },
  {
   "cell_type": "code",
   "execution_count": null,
   "metadata": {
    "collapsed": false,
    "slideshow": {
     "slide_type": "slide"
    }
   },
   "outputs": [],
   "source": [
    "# Modify the following program to find \n",
    "# 1. the average age\n",
    "# 2. the oldest age in our array\n",
    "\n",
    "ages = [14, 16, 12, 17, 14]\n",
    "total_ages = 0\n",
    "for i in range(len(ages)):\n",
    "    total_ages = total_ages + ages[i]\n",
    "# output included to see total\n",
    "print(total_ages)\n",
    "\n",
    "# note also that Python allows iteration directly over\n",
    "# the elements in an array so this code also calculates\n",
    "# the total age:\n",
    "\n",
    "total_ages = 0\n",
    "for age in ages:\n",
    "    total_ages = total_ages + age\n",
    "print(total_ages)"
   ]
  },
  {
   "cell_type": "markdown",
   "metadata": {
    "slideshow": {
     "slide_type": "slide"
    }
   },
   "source": [
    "### EXAM QUESTION\n",
    "\n",
    "The following algorithm determines the number of carriages a train will need.\n",
    "The array called passengers is used to store the change in the number of passengers at each train station. For example, at the first stop the total number of passengers increases by 100, at the second stop the total number of passengers decreases by 20, at the third stop the total number of passengers increases by 70 and so on.\n",
    "\n",
    "**Note: array indexing starts at 1.**\n",
    "\n",
    "    passengers ← [100, -20, 70, -50, -100] carriages ← 0\n",
    "    total ← 0\n",
    "    max ← 0\n",
    "    index ← 1\n",
    "\n",
    "    WHILE index ≤ 5\n",
    "        total ← total + passengers[index] \n",
    "        IF total > max THEN\n",
    "            max ← total\n",
    "        ENDIF\n",
    "        index ← index + 1 \n",
    "    ENDWHILE\n",
    "\n",
    "    carriages ← max / 50\n",
    "    \n",
    "**Complete the trace table for this program**"
   ]
  },
  {
   "cell_type": "markdown",
   "metadata": {
    "slideshow": {
     "slide_type": "notes"
    }
   },
   "source": [
    "Theory material and examples adapted from:\n",
    "**AQA GCSE Companion Draft 1.0\n",
    "Copyright Matthew Walker, 2016\n",
    "Released under Creative Commons Attribution-NonCommercial-ShareAlike 4.0 International (CC BY-NC-SA 4.0). **"
   ]
  }
 ],
 "metadata": {
  "celltoolbar": "Slideshow",
  "kernelspec": {
   "display_name": "Python 3",
   "language": "python",
   "name": "python3"
  },
  "language_info": {
   "codemirror_mode": {
    "name": "ipython",
    "version": 3
   },
   "file_extension": ".py",
   "mimetype": "text/x-python",
   "name": "python",
   "nbconvert_exporter": "python",
   "pygments_lexer": "ipython3",
   "version": "3.4.2"
  }
 },
 "nbformat": 4,
 "nbformat_minor": 0
}
