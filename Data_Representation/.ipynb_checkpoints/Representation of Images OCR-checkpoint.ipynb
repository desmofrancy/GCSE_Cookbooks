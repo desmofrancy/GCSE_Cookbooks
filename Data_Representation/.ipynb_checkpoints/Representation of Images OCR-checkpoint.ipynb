{
 "cells": [
  {
   "cell_type": "markdown",
   "metadata": {
    "slideshow": {
     "slide_type": "slide"
    }
   },
   "source": [
    "## Why are radiographies always in black and white?\n",
    "<img src=\"scan.jpg\" style=\"width: 400px;\"> "
   ]
  },
  {
   "cell_type": "markdown",
   "metadata": {
    "slideshow": {
     "slide_type": "slide"
    }
   },
   "source": [
    "### Learning Objectives\n",
    "Understand that images are made of numbers\n",
    "\n",
    "Analyse how resolution, bit-depth and compression impact on image size and quality\n",
    "\n",
    "Explore image metadata"
   ]
  },
  {
   "cell_type": "markdown",
   "metadata": {
    "slideshow": {
     "slide_type": "slide"
    }
   },
   "source": [
    "### Bit maps\n",
    "* Binary data can represent images.\n",
    "* Pictures must be shown on a screen or a printer as a series of dots or pixels.\n",
    "* They may also be stored as a series of bits.  Each bit corresponds to a part of the image.\n",
    "* Images stored in this way are called **bit-mapped** image files. \n",
    "* The more dots in a given area, the better the quality.\n",
    "    * This is called the **resolution** of the picture.\n"
   ]
  },
  {
   "cell_type": "code",
   "execution_count": null,
   "metadata": {
    "collapsed": false,
    "scrolled": true,
    "slideshow": {
     "slide_type": "slide"
    }
   },
   "outputs": [],
   "source": [
    "from IPython.display import Image\n",
    "Image(filename='house.png') "
   ]
  },
  {
   "cell_type": "markdown",
   "metadata": {
    "collapsed": true,
    "slideshow": {
     "slide_type": "slide"
    }
   },
   "source": [
    "### Learning Objectives\n",
    "Understand that images are made of numbers\n",
    "\n",
    "Analyse how resolution, bit-depth and compression impact on image size and quality\n",
    "\n",
    "Explore image metadata"
   ]
  },
  {
   "cell_type": "markdown",
   "metadata": {
    "slideshow": {
     "slide_type": "slide"
    }
   },
   "source": [
    "When a bit-mapped image is enlarged, the pixels enlarge too.\n",
    "This produces a jagged, blurred image.\n"
   ]
  },
  {
   "cell_type": "code",
   "execution_count": null,
   "metadata": {
    "collapsed": false,
    "slideshow": {
     "slide_type": "slide"
    }
   },
   "outputs": [],
   "source": [
    "%matplotlib notebook\n",
    "\n",
    "import matplotlib.pyplot as plt\n",
    "import matplotlib.image as mpimg\n",
    "#display our image\n",
    "image = mpimg.imread('house.png')\n",
    "plt.imshow(image)\n",
    "plt.show()"
   ]
  },
  {
   "cell_type": "markdown",
   "metadata": {
    "slideshow": {
     "slide_type": "slide"
    }
   },
   "source": [
    "The higher the resolution, the bigger the file size.\n"
   ]
  },
  {
   "cell_type": "code",
   "execution_count": null,
   "metadata": {
    "collapsed": false,
    "slideshow": {
     "slide_type": "slide"
    }
   },
   "outputs": [],
   "source": [
    "plt.savefig('test1.eps', dpi=1)\n",
    "plt.savefig('test2.eps', dpi=10)\n",
    "plt.savefig('test3.eps', dpi=100)"
   ]
  },
  {
   "cell_type": "markdown",
   "metadata": {
    "slideshow": {
     "slide_type": "slide"
    }
   },
   "source": [
    "Colour depth or bit depth is the number of bits used to represent the colour of a single pixel, in other words, bits per pixel.\n",
    "\n",
    "The more bits used, the better the quality of the colour because more colours can be encoded.\n"
   ]
  },
  {
   "cell_type": "code",
   "execution_count": null,
   "metadata": {
    "collapsed": false,
    "slideshow": {
     "slide_type": "slide"
    }
   },
   "outputs": [],
   "source": [
    "img=mpimg.imread('stinkbug.png')\n",
    "img"
   ]
  },
  {
   "cell_type": "code",
   "execution_count": null,
   "metadata": {
    "collapsed": false,
    "slideshow": {
     "slide_type": "slide"
    }
   },
   "outputs": [],
   "source": [
    "import PIL.Image as Image\n",
    "cat = Image.open('cat.png')\n",
    "cat"
   ]
  },
  {
   "cell_type": "code",
   "execution_count": null,
   "metadata": {
    "collapsed": false,
    "slideshow": {
     "slide_type": "slide"
    }
   },
   "outputs": [],
   "source": [
    "import numpy\n",
    "data = numpy.asarray(cat)\n",
    "data"
   ]
  },
  {
   "cell_type": "code",
   "execution_count": null,
   "metadata": {
    "collapsed": false,
    "slideshow": {
     "slide_type": "slide"
    }
   },
   "outputs": [],
   "source": [
    "#cat2 = cat.point(lambda x: int(x/50)*50)\n",
    "cat2 = cat.point(lambda x: x//50*50)\n",
    "cat2"
   ]
  },
  {
   "cell_type": "code",
   "execution_count": null,
   "metadata": {
    "collapsed": false,
    "slideshow": {
     "slide_type": "slide"
    }
   },
   "outputs": [],
   "source": [
    "data2 = numpy.asarray(cat2)\n",
    "data2"
   ]
  },
  {
   "cell_type": "markdown",
   "metadata": {
    "collapsed": true,
    "slideshow": {
     "slide_type": "slide"
    }
   },
   "source": [
    "### Learning Objectives\n",
    "Understand that images are made of numbers\n",
    "\n",
    "Analyse how resolution, bit-depth and compression impact on image size and quality\n",
    "\n",
    "Explore image metadata"
   ]
  },
  {
   "cell_type": "markdown",
   "metadata": {
    "slideshow": {
     "slide_type": "slide"
    }
   },
   "source": [
    "Metadata is data about data.\n",
    "Metadata is useful in many types of file to provide extra information.\n",
    "Image files may contain metadata about:\n",
    "* the height;\n",
    "* the width;\n",
    "* the colour depth;\n",
    "* the resolution;\n",
    "* camera used;\n",
    "* exposure details;\n",
    "* when the image was created;\n",
    "* who owns the copyright;\n",
    "* contact information.\n",
    "\n",
    "Check the metadata of an image at http://regex.info/exif.cgi"
   ]
  },
  {
   "cell_type": "markdown",
   "metadata": {
    "slideshow": {
     "slide_type": "slide"
    }
   },
   "source": [
    "### Compression\n",
    "Photographs are often compressed in order to make them take up less file space. \n",
    "\n",
    "JPEG image files are compressed bitmaps.\n"
   ]
  },
  {
   "cell_type": "code",
   "execution_count": null,
   "metadata": {
    "collapsed": false,
    "scrolled": true,
    "slideshow": {
     "slide_type": "slide"
    }
   },
   "outputs": [],
   "source": [
    "from PIL import Image\n",
    "\n",
    "from io import BytesIO\n",
    "\n",
    "image = Image.open(\"mountain.jpg\")\n",
    "image"
   ]
  },
  {
   "cell_type": "code",
   "execution_count": null,
   "metadata": {
    "collapsed": false,
    "slideshow": {
     "slide_type": "slide"
    }
   },
   "outputs": [],
   "source": [
    "fpath = BytesIO()\n",
    "fpath\n",
    "image.save(fpath,'JPEG', dpi=[50, 50], quality=5)\n",
    "\n",
    "fpath.seek(0)\n",
    "\n",
    "compressed_image = Image.open(fpath)\n",
    "compressed_image"
   ]
  },
  {
   "cell_type": "markdown",
   "metadata": {
    "slideshow": {
     "slide_type": "slide"
    }
   },
   "source": [
    "<img src=\"Q5.png\" style=\"width: 600px;\"> "
   ]
  },
  {
   "cell_type": "markdown",
   "metadata": {
    "slideshow": {
     "slide_type": "slide"
    }
   },
   "source": [
    "### Vector graphics\n",
    "Pictures can also be stored as formulae.\n",
    "\n",
    "They define characteristics of points, lines and curves.\n",
    "\n",
    "They do not distort when enlarged, because the image is recalculated.\n",
    "\n",
    "The drawing tools in word processors produce vector graphic images.\n",
    "\n",
    "Vector graphics are used to make clear images for movie films, and magazine and web page illustrations.\n"
   ]
  },
  {
   "cell_type": "markdown",
   "metadata": {
    "slideshow": {
     "slide_type": "slide"
    }
   },
   "source": [
    "### Task\n",
    "A __________________ is made up of pixels. \n",
    "\n",
    "To represent colours we need to use a number of_________________.\n",
    "\n",
    "With________________ we can represent 2 colours; with________________we can represent______________________.\n",
    "\n",
    "The number of bits per pixels is called the___________________ of the image.\n",
    "\n",
    "The_________________ of the image is the number of pixels per unit. \n",
    "\n",
    "The image is stored in ________________ and the data about how this is interpreted by the computer is called____________________.\n",
    "\n",
    "The higher the resolution and colour depth the_________________ the file needed to store the image.\n",
    "\n",
    "A____________________ uses primitives shapes and control points to store images."
   ]
  },
  {
   "cell_type": "markdown",
   "metadata": {
    "slideshow": {
     "slide_type": "slide"
    }
   },
   "source": [
    "Words to be used:\n",
    "\n",
    "    8 bits\n",
    "    vector image\n",
    "    metadata\n",
    "    larger\n",
    "    binary\n",
    "    bits per pixel\n",
    "    colour depth\n",
    "    1 bit\n",
    "    bit-mapped image\n",
    "    256 colours\n",
    "    resolution"
   ]
  },
  {
   "cell_type": "code",
   "execution_count": null,
   "metadata": {
    "collapsed": true
   },
   "outputs": [],
   "source": []
  }
 ],
 "metadata": {
  "celltoolbar": "Slideshow",
  "kernelspec": {
   "display_name": "Python 3",
   "language": "python",
   "name": "python3"
  },
  "language_info": {
   "codemirror_mode": {
    "name": "ipython",
    "version": 3
   },
   "file_extension": ".py",
   "mimetype": "text/x-python",
   "name": "python",
   "nbconvert_exporter": "python",
   "pygments_lexer": "ipython3",
   "version": "3.4.2"
  }
 },
 "nbformat": 4,
 "nbformat_minor": 0
}
