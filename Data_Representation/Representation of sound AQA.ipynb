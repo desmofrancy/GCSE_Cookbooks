{
 "cells": [
  {
   "cell_type": "markdown",
   "metadata": {
    "slideshow": {
     "slide_type": "slide"
    }
   },
   "source": [
    "## What do they have in common?\n",
    "Image 1             |  Image 2                  |   Image 3\n",
    ":------------------:|:-------------------------:|:-------------------------:\n",
    "<img src=\"heart.gif\" style=\"width: 400px;\">     |  <img src=\"ultrahaptics.gif\" style=\"width: 400px;\">    |  <img src=\"sound_sand.gif\" style=\"width: 400px;\">\n"
   ]
  },
  {
   "cell_type": "markdown",
   "metadata": {
    "slideshow": {
     "slide_type": "slide"
    }
   },
   "source": [
    "## Lesson objectives\n",
    "\n",
    "### 1. Learn that sound is an analogue energy form\n",
    "### 2. Understand how sound can be represented in binary\n",
    "### 3. Analyse how sampling and compression impact on the quality of sound\n"
   ]
  },
  {
   "cell_type": "markdown",
   "metadata": {
    "slideshow": {
     "slide_type": "slide"
    }
   },
   "source": [
    "### Sound is an analogue energy form. In other words, it can vary in many ways between extreme values. The values include such parameters as:\n",
    "1. loudness/amplitude\n",
    "2. pitch/frequency\n",
    "3. duration.\n",
    "### The following graph shows the loudness of a sound over a short period of time.\n",
    "<img src=\"sound_waves.gif\" style=\"width: 400px;\">"
   ]
  },
  {
   "cell_type": "markdown",
   "metadata": {
    "slideshow": {
     "slide_type": "slide"
    }
   },
   "source": [
    "### Amplitude\n",
    "As waves travel, they set up patterns of disturbance. The amplitude of a wave is its maximum disturbance from its undisturbed position.\n",
    "\n",
    "### Wavelength\n",
    "The wavelength of a wave is the distance between a point on one wave and the same point on the next wave. It is often easiest to measure this from the crest of one wave to the crest of the next wave, but it doesn't matter where as long as it is the same point in each wave.\n",
    "\n",
    "### Frequency\n",
    "The frequency of a wave is the number of waves produced by a source each second. It is also the number of waves that pass a certain point each second. \n",
    "The unit of frequency is the hertz (Hz). It is common for kilohertz (kHz), megahertz (MHz) and gigahertz (GHz) to be used when waves have very high frequencies. \n",
    "* For example, most people cannot hear a high-pitched sound above 20kHz, radio stations broadcast radio waves with frequencies of about 100MHz, while most wireless computer networks operate at 2.4GHz.\n"
   ]
  },
  {
   "cell_type": "markdown",
   "metadata": {
    "slideshow": {
     "slide_type": "slide"
    }
   },
   "source": [
    "<img src=\"wave.gif\" style=\"width: 800px;\">"
   ]
  },
  {
   "cell_type": "markdown",
   "metadata": {
    "slideshow": {
     "slide_type": "subslide"
    }
   },
   "source": [
    "## Question\n",
    "Look at the graph and calculate an approximate value for \n",
    "1. amplitude\n",
    "2. wavelength\n",
    "3. duration\n",
    "<img src=\"trumpet.png\" style=\"width: 800px;\">"
   ]
  },
  {
   "cell_type": "markdown",
   "metadata": {
    "slideshow": {
     "slide_type": "slide"
    }
   },
   "source": [
    "## Lesson objectives\n",
    "\n",
    "### 1. Learn that sound is an analogue energy form\n",
    "### 2. Understand how sound can be represented in binary\n",
    "### 3. Analyse how sampling and compression impact on the quality of sound\n"
   ]
  },
  {
   "cell_type": "markdown",
   "metadata": {
    "slideshow": {
     "slide_type": "slide"
    }
   },
   "source": [
    "<img src=\"conversion1.png\" style=\"width: 400px;\">\n",
    "* Computers only work with digital signals, so the sound is **sampled**.\n",
    "<img src=\"conversion2.png\" style=\"width: 400px;\">\n",
    "* Measurements are taken at intervals.\n",
    "<img src=\"conversion3.png\" style=\"width: 400px;\">\n",
    "* Various parameters are measured.\n"
   ]
  },
  {
   "cell_type": "markdown",
   "metadata": {
    "slideshow": {
     "slide_type": "slide"
    }
   },
   "source": [
    "* These readings give us an approximation to the sound.\n",
    "* The more measurements, the better that approximation  and quality of the recording.\n",
    "* More measurements, however, means a larger file size.\n",
    "<img src=\"sampling.gif\" style=\"width: 400px;\">"
   ]
  },
  {
   "cell_type": "markdown",
   "metadata": {
    "slideshow": {
     "slide_type": "slide"
    }
   },
   "source": [
    "## Sampling\n",
    "### Sample rate\n",
    "The sample rate is how many samples, or measurements, of the sound are taken each second. The more samples that are taken, the more detail about where the waves rise and fall is recorded and the higher the quality of the audio. Also, the shape of the sound wave is captured more accurately.\n",
    "### Bit depth\n",
    "Bit depth is the number of bits available for each sample. The higher the bit depth, the higher the quality of the audio. Bit depth is usually 16 bits on a CD and 24 bits on a DVD.\n",
    "### Bit rate\n",
    "The bit rate of a file tells us how many bits of data are processed every second. Bit rates are usually measured in kilobits per second (kbps).\n",
    "The bit rate is calculated using the formula:\n",
    "\n",
    "**Frequency × bit depth × channels = bit rate**\n"
   ]
  },
  {
   "cell_type": "markdown",
   "metadata": {
    "slideshow": {
     "slide_type": "subslide"
    }
   },
   "source": [
    "<img src=\"EQ3.png\" style=\"width: 800px;\">"
   ]
  },
  {
   "cell_type": "markdown",
   "metadata": {
    "slideshow": {
     "slide_type": "slide"
    }
   },
   "source": [
    "### Audio CD\n",
    "* music is sampled 44,100 times per second \n",
    "* the samples are 2 bytes (16 bits) long\n",
    "* 44,100 samples/second * 16 bits/sample * 2 channels = 1,411,200 bits per second\n",
    "* Audio CDs store a LOT of data.\n",
    "* This is much too much for normal computer storage and downloads.\n"
   ]
  },
  {
   "cell_type": "code",
   "execution_count": 9,
   "metadata": {
    "collapsed": true
   },
   "outputs": [],
   "source": [
    "# generate wav file containing sine waves\n",
    "import math, wave, array\n",
    "duration = 3 # seconds\n",
    "freq = 440 # of cycles per second (Hz) (frequency of the sine waves)\n",
    "volume = 100 # percent\n",
    "data = array.array('h') # signed short integer (-32768 to 32767) data\n",
    "sampleRate = 44100 # of samples per second (standard)\n",
    "numChan = 1 # of channels (1: mono, 2: stereo)\n",
    "dataSize = 2 # 2 bytes because of using signed short integers => bit depth = 16\n",
    "numSamplesPerCyc = int(sampleRate / freq)\n",
    "numSamples = sampleRate * duration\n",
    "for i in range(numSamples):\n",
    "    sample = 32767 * float(volume) / 100\n",
    "    sample *= math.sin(math.pi * 2 * (i % numSamplesPerCyc) / numSamplesPerCyc)\n",
    "    data.append(int(sample))\n",
    "f = wave.open('SineWave_' + str(freq) + 'Hz.wav', 'w')\n",
    "f.setparams((numChan, dataSize, sampleRate, numSamples, \"NONE\", \"Uncompressed\"))\n",
    "f.writeframes(data.tostring())\n",
    "f.close()"
   ]
  },
  {
   "cell_type": "markdown",
   "metadata": {
    "slideshow": {
     "slide_type": "slide"
    }
   },
   "source": [
    "### Compression\n",
    "* Sound files are usually **compressed** for computer storage and transmission.\n",
    "* MP3 is a common compressed sound file format.\n",
    "* Algorithms are devised to remove the parts of the data that humans are least likely to hear.\n"
   ]
  },
  {
   "cell_type": "markdown",
   "metadata": {
    "slideshow": {
     "slide_type": "slide"
    }
   },
   "source": [
    "## Lesson objectives\n",
    "\n",
    "### 1. Learn that sound is an analogue energy form\n",
    "### 2. Understand how sound can be represented in binary\n",
    "### 3. Analyse how sampling and compression impact on the quality of sound\n"
   ]
  }
 ],
 "metadata": {
  "celltoolbar": "Slideshow",
  "kernelspec": {
   "display_name": "Python 3",
   "language": "python",
   "name": "python3"
  },
  "language_info": {
   "codemirror_mode": {
    "name": "ipython",
    "version": 3
   },
   "file_extension": ".py",
   "mimetype": "text/x-python",
   "name": "python",
   "nbconvert_exporter": "python",
   "pygments_lexer": "ipython3",
   "version": "3.4.2"
  }
 },
 "nbformat": 4,
 "nbformat_minor": 0
}
