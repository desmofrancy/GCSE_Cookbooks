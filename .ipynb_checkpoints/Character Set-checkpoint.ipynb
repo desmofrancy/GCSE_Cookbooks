{
 "cells": [
  {
   "cell_type": "markdown",
   "metadata": {
    "slideshow": {
     "slide_type": "slide"
    }
   },
   "source": [
    "# ASCII Art\n",
    "\n",
    "## What does the following program print to the screen? See if you can guess correctly before running the program.\n",
    "\n",
    "<img src=\"minions.png\" style=\"width: 200px;\">"
   ]
  },
  {
   "cell_type": "code",
   "execution_count": 4,
   "metadata": {
    "collapsed": false
   },
   "outputs": [
    {
     "name": "stdout",
     "output_type": "stream",
     "text": [
      "ha ha ha ha \n",
      "bananaaaaaa\n",
      "Hello!!!!!!!!!!\n"
     ]
    }
   ],
   "source": [
    "print(\"ha \"*4)\n",
    "print(\"ba\" + \"na\"*2 + \"a\"*5)\n",
    "print(\"He\" + \"l\"*2 + \"o\" + \"!\"*10)"
   ]
  },
  {
   "cell_type": "markdown",
   "metadata": {},
   "source": [
    "# Learning Objectives\n",
    "\n",
    "Know that characters are represented by numbers\n",
    "\n",
    "* Outcome 1: Practice ASCII art in Python\n",
    "\n",
    "Understand how to convert numbers to characters\n",
    "\n",
    "* Outcome 2: Practice conversion in Python\n",
    "\n",
    "Recognise the features and limits of ASCII"
   ]
  },
  {
   "cell_type": "markdown",
   "metadata": {
    "slideshow": {
     "slide_type": "slide"
    }
   },
   "source": [
    "## You could even use calculations to make interesting patterns, like this wave:"
   ]
  },
  {
   "cell_type": "code",
   "execution_count": 5,
   "metadata": {
    "collapsed": false,
    "slideshow": {
     "slide_type": "subslide"
    }
   },
   "outputs": [
    {
     "name": "stdout",
     "output_type": "stream",
     "text": [
      "/\\  /\\  /\\  /\\  /\\  /\\  /\\  /\\  /\\  /\\  \n",
      "  \\/  \\/  \\/  \\/  \\/  \\/  \\/  \\/  \\/  \\/\n"
     ]
    }
   ],
   "source": [
    "print(\"/\\  \"*10)\n",
    "print(\"  \\/\"*10)"
   ]
  },
  {
   "cell_type": "code",
   "execution_count": 6,
   "metadata": {
    "collapsed": false,
    "slideshow": {
     "slide_type": "subslide"
    }
   },
   "outputs": [
    {
     "name": "stdout",
     "output_type": "stream",
     "text": [
      "##############################\n",
      "##############################\n",
      "##############################\n"
     ]
    }
   ],
   "source": [
    "print(\"#\" * 30)\n",
    "print(\"#\" * 30)\n",
    "print(\"#\" * 30)"
   ]
  },
  {
   "cell_type": "markdown",
   "metadata": {
    "slideshow": {
     "slide_type": "subslide"
    }
   },
   "source": [
    "## Character set\n",
    "\n",
    "Every word is made up of symbols or characters. \n",
    "\n",
    "When you press a key on a keyboard, a number is generated that represents the symbol for that key. This is called a **character code**. \n",
    "\n",
    "A complete collection of characters is a **character set**.\n",
    "\n",
    "<img src=\"char.png\">"
   ]
  },
  {
   "cell_type": "markdown",
   "metadata": {
    "slideshow": {
     "slide_type": "subslide"
    }
   },
   "source": [
    "## Keyboards\n",
    "\n",
    "1. Click Start Start button, type **intl.cpl** in the Start Search box, and then press ENTER.\n",
    "2. On the Keyboards and Language tab, click Change keyboards.\n",
    "3. Click Add.\n",
    "4. Expand the language you are studying. For example, expand Italian (Italy).\n",
    "5. Expand Keyboard list, click to select the Italy Italian check box, and then click OK.\n",
    "6. In the options, click Preview... to compare the layout with the actual keyboard, and then click OK.\n",
    "7. In the Text Services and Input Languages dialog box, click OK.\n",
    "8. Click the Language bar, and then click IT Italian (Italy)."
   ]
  },
  {
   "cell_type": "markdown",
   "metadata": {},
   "source": [
    "# Learning Objectives\n",
    "\n",
    "Know that characters are represented by numbers\n",
    "\n",
    "* Outcome 1: Practice ASCII art in Python\n",
    "\n",
    "Understand how to convert numbers to characters\n",
    "\n",
    "* Outcome 2: Practice conversion in Python\n",
    "\n",
    "Recognise the features and limits of ASCII"
   ]
  },
  {
   "cell_type": "markdown",
   "metadata": {
    "slideshow": {
     "slide_type": "slide"
    }
   },
   "source": [
    "## ASCII (American Standard Code for Information Interchange)\n",
    "\n",
    "The ASCII character set is a **7-bit** set of codes that allows **128** different characters. \n",
    "* That is enough for every upper-case letter, lower-case letter, digit and punctuation mark on most keyboards. \n",
    "\n",
    "ASCII is only used for the English language.\n",
    "\n",
    "<img src=\"asciiart.gif\" style=\"width: 200px;\">"
   ]
  },
  {
   "cell_type": "markdown",
   "metadata": {
    "slideshow": {
     "slide_type": "subslide"
    }
   },
   "source": [
    "## ASCII in Python\n",
    "\n",
    "How do I get the ASCII value of a character as an int in Python?\n",
    "\n",
    "Function ord() would get the int value of the char. \n",
    "In case you want to convert back after playing with the number, function chr() does the trick."
   ]
  },
  {
   "cell_type": "markdown",
   "metadata": {
    "slideshow": {
     "slide_type": "slide"
    }
   },
   "source": [
    "## Quiz\n",
    "\n",
    "### print(ord('a'))\n",
    "1. a\n",
    "2. 97\n",
    "3. 61\n",
    "\n",
    "### print(chr(97))\n",
    "1. a\n",
    "2. 97\n",
    "3. 61\n",
    "\n",
    "### print(chr(ord('a') + 3))\n",
    "1. d\n",
    "2. 100\n",
    "3. 64"
   ]
  },
  {
   "cell_type": "code",
   "execution_count": 7,
   "metadata": {
    "collapsed": false,
    "slideshow": {
     "slide_type": "subslide"
    }
   },
   "outputs": [
    {
     "name": "stdout",
     "output_type": "stream",
     "text": [
      "97\n",
      "a\n",
      "d\n"
     ]
    }
   ],
   "source": [
    "e1 = ord('a')\n",
    "print(e1)\n",
    "\n",
    "e2 = chr(97)\n",
    "print(e2)\n",
    "\n",
    "e3 = chr(ord('a') + 3)\n",
    "print(e3)"
   ]
  },
  {
   "cell_type": "markdown",
   "metadata": {
    "slideshow": {
     "slide_type": "slide"
    }
   },
   "source": [
    "## On your keyboard, get set, code!\n",
    "\n",
    "### Develop a function in Pyhton that given a word will print it in ASCII codes"
   ]
  },
  {
   "cell_type": "markdown",
   "metadata": {
    "slideshow": {
     "slide_type": "slide"
    }
   },
   "source": [
    "## Exam question\n",
    "\n",
    "<img src=\"EQ2.png\">"
   ]
  },
  {
   "cell_type": "markdown",
   "metadata": {
    "slideshow": {
     "slide_type": "subslide"
    }
   },
   "source": [
    "## Mark Scheme\n",
    "\n",
    "<img src=\"MS2.png\">"
   ]
  },
  {
   "cell_type": "markdown",
   "metadata": {},
   "source": [
    "## Unicode\n",
    "\n",
    "Unicode uses between 8 and 32 bits per character, so it can represent characters from languages from all around the world. \n",
    "* It is commonly used across the internet. \n",
    "* As it is larger than ASCII, it might take up more storage space when saving documents.\n",
    "\n",
    "<img src=\"unicode.png\">"
   ]
  },
  {
   "cell_type": "markdown",
   "metadata": {},
   "source": [
    "## Unicode in Python\n",
    "\n",
    "How do I get the Unicode value of a character as an int in Python?\n",
    "\n",
    "Function ord() would get the int value of the char. \n",
    "In case you want to convert back after playing with the number, function chr() does the trick."
   ]
  },
  {
   "cell_type": "code",
   "execution_count": 16,
   "metadata": {
    "collapsed": false
   },
   "outputs": [
    {
     "name": "stdout",
     "output_type": "stream",
     "text": [
      "Enter message to encode: casa\n",
      "99\n",
      "97\n",
      "115\n",
      "97\n"
     ]
    }
   ],
   "source": [
    "#def word2ASCII(s):\n",
    "#    for c in s:\n",
    "#        print(ord(c))\n",
    "        \n",
    "def word2ASCII(s):\n",
    "    [print(ord(c)) for c in s]\n",
    "             \n",
    "message = input(\"Enter message to encode: \")\n",
    "word2ASCII(message)"
   ]
  },
  {
   "cell_type": "code",
   "execution_count": null,
   "metadata": {
    "collapsed": true
   },
   "outputs": [],
   "source": []
  }
 ],
 "metadata": {
  "celltoolbar": "Slideshow",
  "kernelspec": {
   "display_name": "Python 3",
   "language": "python",
   "name": "python3"
  },
  "language_info": {
   "codemirror_mode": {
    "name": "ipython",
    "version": 3
   },
   "file_extension": ".py",
   "mimetype": "text/x-python",
   "name": "python",
   "nbconvert_exporter": "python",
   "pygments_lexer": "ipython3",
   "version": "3.4.2"
  }
 },
 "nbformat": 4,
 "nbformat_minor": 0
}
