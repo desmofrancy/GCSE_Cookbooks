{
 "cells": [
  {
   "cell_type": "code",
   "execution_count": 9,
   "metadata": {
    "collapsed": false,
    "slideshow": {
     "slide_type": "slide"
    }
   },
   "outputs": [],
   "source": [
    "# Purpose of the program: find highest number in array \n",
    "\n",
    "array = [4,5,1,7,3,8]\n",
    "result = array[0]\n",
    "\n",
    "for i in range (len(array)):\n",
    "    if array[i] > result:\n",
    "        result == array[i]"
   ]
  },
  {
   "cell_type": "markdown",
   "metadata": {
    "slideshow": {
     "slide_type": "slide"
    }
   },
   "source": [
    "* Understand the essential need to test programs\n",
    "* Identify test data that can be used to increase the effectiveness of test results (such as data at the boundaries of acceptance and erroneous data)"
   ]
  },
  {
   "cell_type": "markdown",
   "metadata": {
    "slideshow": {
     "slide_type": "slide"
    }
   },
   "source": [
    "### Testing Specifications\n",
    "Students should:\n",
    "* understand the need for rigorous testing of coded solutions\n",
    "* understand the different types of tests that can be used, including unit/modular testing\n",
    "* be able to create suitable test plans and carry out suitable testing to demonstrate their solutions work as intended\n",
    "* be able to hand test simple code designs/algorithms using trace tables."
   ]
  },
  {
   "cell_type": "markdown",
   "metadata": {
    "slideshow": {
     "slide_type": "slide"
    }
   },
   "source": [
    "Controlled Assessment: Testing and evaluation (0–9 marks available)\n",
    "The testing and evaluation should include:\n",
    "\n",
    "1. a full test plan covering all of the major success criteria for the problem\n",
    "2. evidence that the tests have been carried out with the results being documented \n",
    "3. any remedial action that has been taken as a result of testing\n",
    "4. an evaluation of how the solution meets the original needs of the user\n",
    "\n",
    "The quality of the written communication will be assessed in this section.\n",
    "0 marks awarded for no response or for responses not worthy of credit."
   ]
  },
  {
   "cell_type": "markdown",
   "metadata": {
    "slideshow": {
     "slide_type": "slide"
    }
   },
   "source": [
    "### Testing guidelines\n",
    "There is a full or nearly **full** test plan that shows all or nearly all of the expected tests and includes the full test data to be used and the expected results.\n",
    "\n",
    "There is **evidence** that all or almost all of the planned tests have been carried out and a **detailed** record of the results showing the extent to which every test was successful.\n",
    "\n",
    "Where remedial action was required as a result of testing this has been carried out and a **record of the actions taken** has been provided.\n",
    "\n",
    "There is an **evaluation discussing how the final solution meets the original needs of the user**.\n",
    "\n",
    "The evidence is **accurately** spelt, punctuated and grammatically **correct** to make the meaning clear. The form and style of writing is appropriate. Information is **clearly** organised and **specialist vocabulary** has been used appropriately."
   ]
  },
  {
   "cell_type": "markdown",
   "metadata": {
    "slideshow": {
     "slide_type": "slide"
    }
   },
   "source": [
    "### TEST PLANS\n",
    "\n",
    "As developers, we test our programs all the time. \n",
    "Quite often this is informal testing – run the program and check that it works and, if not, find out where the errors area. \n",
    "Testing is, of course a vital step in ensuring that our programs are correct. \n",
    "It is, however, not always straightforward to know which tests to perform to accomplish this.\n",
    "\n",
    "    setters_number ← USERINPUT\n",
    "    guess ← USERINPUT\n",
    "    IF setters_number = guess THEN\n",
    "    OUTPUT ꞌwell done!ꞌ ELSE\n",
    "    OUTPUT ꞌbad luck!ꞌ ENDIF\n",
    "    "
   ]
  },
  {
   "cell_type": "markdown",
   "metadata": {
    "slideshow": {
     "slide_type": "slide"
    }
   },
   "source": [
    "There are two possible pathways through this program\n",
    " * the path for which the Boolean condition is True \n",
    " * and the one for which it is False. \n",
    "\n",
    "So to convince ourselves that this program is correct we will choose two sets of test data:\n",
    " * one where setters_number and guess is equal \n",
    " * and another where they are not. "
   ]
  },
  {
   "cell_type": "markdown",
   "metadata": {
    "slideshow": {
     "slide_type": "slide"
    }
   },
   "source": [
    "Test results should be logged and the obvious way to do this is by using a table. \n",
    "We can fill in most of the table before the tests are carried out:\n",
    "\n",
    "Test Number    |  Description         |   Input Data         |   Expected Outcome   |   Result            \n",
    ":-------------:|:--------------------:|:--------------------:|:--------------------:|:--------------------:\n",
    "1|Test for the correct outcome when setters_number and guess are the same value|setters_number: 1 guess: 1|output 'well done!'|          \n",
    "2|Test for the correct outcome when setters_number and guess are not equal values|setters_number: 1 guess: 2|output 'bad luck!'|          "
   ]
  },
  {
   "cell_type": "markdown",
   "metadata": {
    "slideshow": {
     "slide_type": "slide"
    }
   },
   "source": [
    "When the tests are run the last column can be filled in and, assuming the implementation of this program is correct, the completed test table will look like this:"
   ]
  },
  {
   "cell_type": "markdown",
   "metadata": {
    "slideshow": {
     "slide_type": "slide"
    }
   },
   "source": [
    "### Task\n",
    "Write a program that\n",
    "* Converst show size from UK to European\n",
    "* Conversion is given by adding 33\n",
    "Conversion should only work for UK show size from 2 to 13."
   ]
  },
  {
   "cell_type": "markdown",
   "metadata": {
    "slideshow": {
     "slide_type": "slide"
    }
   },
   "source": [
    "### Types of test data\n",
    "* Normal\n",
    "* Boundary\n",
    "* Erroneous"
   ]
  },
  {
   "cell_type": "code",
   "execution_count": 10,
   "metadata": {
    "collapsed": false,
    "slideshow": {
     "slide_type": "slide"
    }
   },
   "outputs": [
    {
     "name": "stdout",
     "output_type": "stream",
     "text": [
      "0\n"
     ]
    }
   ],
   "source": [
    "# Select the test data and run the tests\n",
    "# Calculate the sum of the array ages\n",
    "ages = []\n",
    "total_ages = 0\n",
    "for i in range(len(ages)):\n",
    "    total_ages = ages[i]\n",
    "print(total_ages)"
   ]
  },
  {
   "cell_type": "code",
   "execution_count": null,
   "metadata": {
    "collapsed": true
   },
   "outputs": [],
   "source": []
  },
  {
   "cell_type": "code",
   "execution_count": null,
   "metadata": {
    "collapsed": true
   },
   "outputs": [],
   "source": []
  },
  {
   "cell_type": "code",
   "execution_count": null,
   "metadata": {
    "collapsed": true
   },
   "outputs": [],
   "source": []
  },
  {
   "cell_type": "code",
   "execution_count": null,
   "metadata": {
    "collapsed": true
   },
   "outputs": [],
   "source": []
  },
  {
   "cell_type": "code",
   "execution_count": null,
   "metadata": {
    "collapsed": true
   },
   "outputs": [],
   "source": []
  },
  {
   "cell_type": "code",
   "execution_count": null,
   "metadata": {
    "collapsed": true
   },
   "outputs": [],
   "source": []
  },
  {
   "cell_type": "markdown",
   "metadata": {
    "slideshow": {
     "slide_type": "notes"
    }
   },
   "source": [
    "Theory material and examples adapted from:\n",
    "**AQA GCSE Companion Draft 1.0\n",
    "Copyright Matthew Walker, 2016\n",
    "Released under Creative Commons Attribution-NonCommercial-ShareAlike 4.0 International (CC BY-NC-SA 4.0). **"
   ]
  },
  {
   "cell_type": "code",
   "execution_count": null,
   "metadata": {
    "collapsed": true
   },
   "outputs": [],
   "source": []
  }
 ],
 "metadata": {
  "celltoolbar": "Slideshow",
  "kernelspec": {
   "display_name": "Python 3",
   "language": "python",
   "name": "python3"
  },
  "language_info": {
   "codemirror_mode": {
    "name": "ipython",
    "version": 3
   },
   "file_extension": ".py",
   "mimetype": "text/x-python",
   "name": "python",
   "nbconvert_exporter": "python",
   "pygments_lexer": "ipython3",
   "version": "3.4.2"
  }
 },
 "nbformat": 4,
 "nbformat_minor": 0
}
