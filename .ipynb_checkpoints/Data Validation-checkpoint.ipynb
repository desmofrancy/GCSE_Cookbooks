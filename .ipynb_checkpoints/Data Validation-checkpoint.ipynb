{
 "cells": [
  {
   "cell_type": "markdown",
   "metadata": {
    "slideshow": {
     "slide_type": "slide"
    }
   },
   "source": [
    "### LEARNING AIMS\n",
    "* Recognise the inherent unreliability of data entered by a user\n",
    "* Investigate ways to validate data using code\n",
    "* Understand how file access can cause errors\n",
    "* Explore ways to validate usernames and passwords using an external data source"
   ]
  },
  {
   "cell_type": "markdown",
   "metadata": {
    "slideshow": {
     "slide_type": "slide"
    }
   },
   "source": [
    "A good rule of thumb when writing programs that involve user input is to **always assume that the user will make mistakes** and write your programs accordingly. \n",
    "\n",
    "By way of an example let’s investigate our guessing game. An instance of this game could look like this:\n",
    "\n",
    "    > Enter the number to be guessed\n",
    "    36\n",
    "    > Enter a guess between 1 and 100\n",
    "    fifty\n",
    "    $$$ Program crashed $$$"
   ]
  },
  {
   "cell_type": "markdown",
   "metadata": {
    "slideshow": {
     "slide_type": "slide"
    }
   },
   "source": [
    "### DIFFERENT TYPES OF VALIDATION\n",
    "Because the user will make mistakes, and crashing the program every time they do would be frustrating in the extreme, we can write code that validates the user’s input before carrying on. Validation doesn’t mean that the user always enters something that is correct (such as a correct combination of username and password), but it means that the format of their user input is correct. A complete list of the necessary validation for our user’s guess would be:\n",
    "\n",
    "* minimum length (they need to enter something – this particular instance of checking minimum length is called a presence check)\n",
    "* type (the input should be able to converted to an integer)\n",
    "* range (the integer representation of their input should be between 1 and 100)\n",
    "\n",
    "The actions that result from the input not passing any of these validation attempts should be to prompt the user to enter another guess and, if we were being helpful, to be given a message that explains why their input wasn’t valid. The high-level plan for this is:\n",
    "\n",
    "1. user enters a guess\n",
    "2. if the length of this guess is zero then\n",
    "    1. output an error message\n",
    "    2. go to 1\n",
    "3. convert the input to an integer \n",
    "4. if this causes an error\n",
    "    1. ‘catch’ the error\n",
    "    2. output an error message\n",
    "    3. go to 1\n",
    "5. if the integer is not between 1 and 100\n",
    "    1. output an error message \n",
    "    2. go to 1"
   ]
  },
  {
   "cell_type": "markdown",
   "metadata": {
    "slideshow": {
     "slide_type": "slide"
    }
   },
   "source": [
    "At step 4a the error that would be caused by converting to an integer is ‘caught’. This means that the program doesn’t crash and although an error is found it is caught by a safety net around that part of code. We’ll use the following syntax in our pseudo-code to represent this safety net:\n",
    "\n",
    "    TRY\n",
    "    CATCH\n",
    "       # if an error is found then do this code\n",
    "    ENDTRY\n",
    "    \n",
    "An example use of TRY-CATCH when attempting to convert a string to an integer would be:\n",
    "    \n",
    "    string_input ← USERINPUT\n",
    "    TRY\n",
    "       int_input ← STRING_TO_INT(string_input)\n",
    "    CATCH\n",
    "       OUTPUT 'input could not be converted to integer'\n",
    "    ENDTRY"
   ]
  },
  {
   "cell_type": "code",
   "execution_count": 1,
   "metadata": {
    "collapsed": false,
    "slideshow": {
     "slide_type": "slide"
    }
   },
   "outputs": [
    {
     "name": "stdout",
     "output_type": "stream",
     "text": [
      "Please enter an integer: no\n",
      "No valid integer! Please try again ...\n",
      "Please enter an integer: 10\n",
      "Great, you successfully entered an integer!\n"
     ]
    }
   ],
   "source": [
    "while True:\n",
    "    try:\n",
    "        n = input(\"Please enter an integer: \")\n",
    "        n = int(n)\n",
    "        break\n",
    "    except ValueError:\n",
    "        print(\"No valid integer! Please try again ...\")\n",
    "print(\"Great, you successfully entered an integer!\")"
   ]
  },
  {
   "cell_type": "markdown",
   "metadata": {
    "slideshow": {
     "slide_type": "slide"
    }
   },
   "source": [
    "We can combine our knowledge of validation and subroutines now to amend this code so the subroutine will not return a value unless it is an integer within the correct range (this example uses a WHILE loop instead of REPEAT-UNTIL for variance):\n",
    "\n",
    "    SUBROUTINE get_input(lower, upper)\n",
    "       OUTPUT 'Enter a number between ' + lower + ' and ' + upper\n",
    "       number_as_string ← USERINPUT\n",
    "       # continue to loop until number is returned\n",
    "       WHILE True\n",
    "            TRY\n",
    "               number ← STRING_TO_INT(number_as_string)\n",
    "               IF number < lower OR number > upper THEN\n",
    "                  OUTPUT 'Number not within bounds'\n",
    "               ELSE\n",
    "                  RETURN number\n",
    "               ENDIF\n",
    "            CATCH\n",
    "               OUTPUT 'Not a number'\n",
    "            ENDTRY\n",
    "       ENDWHILE\n",
    "    ENDSUBROUTINE\n",
    "\n",
    "Data validation code is often very repetitive so becoming adept at putting this code inside subroutines that can be reused will speed up your code development as well as making your code more structured, shorter and less likely to contain errors."
   ]
  },
  {
   "cell_type": "markdown",
   "metadata": {
    "slideshow": {
     "slide_type": "notes"
    }
   },
   "source": [
    "Theory material and examples adapted from:\n",
    "**AQA GCSE Companion Draft 1.0\n",
    "Copyright Matthew Walker, 2016\n",
    "Released under Creative Commons Attribution-NonCommercial-ShareAlike 4.0 International (CC BY-NC-SA 4.0). **"
   ]
  },
  {
   "cell_type": "code",
   "execution_count": null,
   "metadata": {
    "collapsed": true
   },
   "outputs": [],
   "source": []
  }
 ],
 "metadata": {
  "celltoolbar": "Slideshow",
  "kernelspec": {
   "display_name": "Python 3",
   "language": "python",
   "name": "python3"
  },
  "language_info": {
   "codemirror_mode": {
    "name": "ipython",
    "version": 3
   },
   "file_extension": ".py",
   "mimetype": "text/x-python",
   "name": "python",
   "nbconvert_exporter": "python",
   "pygments_lexer": "ipython3",
   "version": "3.4.2"
  }
 },
 "nbformat": 4,
 "nbformat_minor": 0
}
