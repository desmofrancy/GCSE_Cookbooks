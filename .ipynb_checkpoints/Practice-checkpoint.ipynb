{
 "cells": [
  {
   "cell_type": "markdown",
   "metadata": {},
   "source": [
    "### Problem 1\n",
    "Write a program tha calculates the average number of siblings for every student"
   ]
  },
  {
   "cell_type": "markdown",
   "metadata": {},
   "source": [
    "### Problem 2\n",
    "Write a program for a game (using either pseudocode or a flowchart) that does the following:\n",
    "* assigns the value “mobile” to a variable called answer then assigns user input to another variable called guess\n",
    "* if the user enters the value “mobile” then the program outputs “winner”, otherwise it allows the user to have another guess\n",
    "* allows the game to continue until the user guesses correctly."
   ]
  },
  {
   "cell_type": "markdown",
   "metadata": {},
   "source": [
    "### Problem 3\n",
    "Write an algorithm (using either pseudocode or a flowchart) that calculates the amount of fuel a train will need to complete a journey. The algorithm must:\n",
    "*  ask the user how many kilometres the journey will be\n",
    "*  only continue if the user enters a value greater than zero\n",
    "*  set the amount of fuel to a number 100 times greater than the number of kilometres\n",
    "*  not allow the amount of fuel to be less than 1500  finally, display the amount of fuel needed."
   ]
  },
  {
   "cell_type": "code",
   "execution_count": null,
   "metadata": {
    "collapsed": true
   },
   "outputs": [],
   "source": []
  }
 ],
 "metadata": {
  "kernelspec": {
   "display_name": "Python 3",
   "language": "python",
   "name": "python3"
  },
  "language_info": {
   "codemirror_mode": {
    "name": "ipython",
    "version": 3
   },
   "file_extension": ".py",
   "mimetype": "text/x-python",
   "name": "python",
   "nbconvert_exporter": "python",
   "pygments_lexer": "ipython3",
   "version": "3.4.2"
  }
 },
 "nbformat": 4,
 "nbformat_minor": 0
}
