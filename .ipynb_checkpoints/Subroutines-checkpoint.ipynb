{
 "cells": [
  {
   "cell_type": "markdown",
   "metadata": {
    "slideshow": {
     "slide_type": "slide"
    }
   },
   "source": [
    "### LEARNING AIMS\n",
    "* Understand how using subroutines can benefit developers\n",
    "* Understand that a subroutine is a block of code that takes zero or more inputs and possibly returns a value\n",
    "* Appreciate that variables declared within subroutines are normally only accessible within those functions"
   ]
  },
  {
   "cell_type": "markdown",
   "metadata": {
    "slideshow": {
     "slide_type": "slide"
    }
   },
   "source": [
    "### DEFINING SUBROUTINES\n",
    "The following code will find out the greatest element in an array called my_array that contains at least one element:\n",
    "\n",
    "    greatest ← my_array[1]\n",
    "    FOR i ← 2 TO LEN(my_array)\n",
    "       IF my_array[i] > greatest THEN\n",
    "          greatest ← my_array[i]\n",
    "       ENDIF \n",
    "    ENDFOR"
   ]
  },
  {
   "cell_type": "markdown",
   "metadata": {
    "slideshow": {
     "slide_type": "subslide"
    }
   },
   "source": [
    "\n",
    "It would be much simpler if we could just write the code out once and then write something like:\n",
    "\n",
    "**get the maximum element in my_array**\n",
    "\n",
    "And just replace the identifier my_array with whatever array we are using. \n",
    "\n",
    "Better still we could reduce this to the following code which we will take to mean exactly the same thing:\n",
    "\n",
    "**max(my_array)\n"
   ]
  },
  {
   "cell_type": "markdown",
   "metadata": {
    "slideshow": {
     "slide_type": "slide"
    }
   },
   "source": [
    "    new_array ← [5, 2, 7, 5, 2, 9, 4]\n",
    "\n",
    "The following expression would evaluate to the value 9:\n",
    "        \n",
    "    max(new_array)\n",
    "    \n",
    "We can use the expression max(new_array) anywhere we would be able to use any other integer like 9, such as in these examples:\n",
    "\n",
    "    ten ← max(new_array) + 1\n",
    "\n",
    "    IF max(new_array) ≠ 9 THEN \n",
    "        OUTPUT ꞌthis will not happenꞌ\n",
    "    ELSE\n",
    "        OUTPUT ꞌbut this willꞌ \n",
    "    ENDIF\n",
    "    \n",
    "    eighteen ← max(new_array) + max(new_array)\n",
    "    \n",
    "    counter ← 1\n",
    "    WHILE counter < max(new_array)\n",
    "       OUTPUT counter\n",
    "       counter ← counter + 2\n",
    "    ENDWHILE\n",
    "    \n",
    "    big_number ← 10^max(new_array)"
   ]
  },
  {
   "cell_type": "markdown",
   "metadata": {
    "slideshow": {
     "slide_type": "slide"
    }
   },
   "source": [
    "    label: max\n",
    "    copy the input array to: my_array greatest ← my_array[1]\n",
    "    FOR i ← 2 TO LEN(my_array)\n",
    "       IF my_array[i] > greatest THEN\n",
    "          greatest ← my_array[i]\n",
    "    ENDIF ENDFOR\n",
    "    return the value: greatest"
   ]
  },
  {
   "cell_type": "markdown",
   "metadata": {
    "slideshow": {
     "slide_type": "subslide"
    }
   },
   "source": [
    "    SUBROUTINE max(my_array)\n",
    "       greatest ← my_array[1]\n",
    "       FOR i ← 2 TO LEN(my_array)\n",
    "          IF my_array[i] > greatest THEN\n",
    "             greatest ← my_array[i]\n",
    "    ENDIF ENDFOR\n",
    "       RETURN greatest\n",
    "    ENDSUBROUTINE"
   ]
  },
  {
   "cell_type": "code",
   "execution_count": null,
   "metadata": {
    "collapsed": true,
    "slideshow": {
     "slide_type": "slide"
    }
   },
   "outputs": [],
   "source": [
    "# Complete the code to write a function that given a list of numbers called my array will return the maximum\n",
    "\n",
    "def max(my_array)\n",
    "\n",
    "\n",
    "\n",
    "\n",
    "    return(greatest)\n",
    "\n",
    "# Calling the function: complete the following instructions\n",
    "new_array = [5,2,7,5,2,9,4]\n",
    "greatest_element = \n",
    "print"
   ]
  },
  {
   "cell_type": "markdown",
   "metadata": {
    "slideshow": {
     "slide_type": "slide"
    }
   },
   "source": [
    "### Examples\n",
    "\n",
    "Given the following subroutines:\n",
    "\n",
    "    SUBROUTINE addTwo(n)\n",
    "       result ← n + 2\n",
    "       RETURN result\n",
    "    SUBROUTINE\n",
    "    \n",
    "    SUBROUTINE triple(m)\n",
    "       result ← m * 3\n",
    "       RETURN result\n",
    "    SUBROUTINE\n",
    "   \n",
    "What will be the value stored in b after the following instructions are executed? (You can use a trace table to help you)   \n",
    "\n",
    "    a ← 4\n",
    "    b ← addTwo(a)\n",
    "    c ← addTwo(3)\n",
    "    a ← triple(c)\n",
    "    b ← triple(b) + addTwo(c)"
   ]
  },
  {
   "cell_type": "code",
   "execution_count": null,
   "metadata": {
    "collapsed": true,
    "slideshow": {
     "slide_type": "slide"
    }
   },
   "outputs": [],
   "source": [
    "# Write the previous example in Python and check your answer:\n",
    "\n",
    "def addTwo(n):\n",
    "    \n",
    "    \n",
    "    \n",
    "def triple(m):\n",
    "    \n",
    "    \n",
    "a = 4"
   ]
  },
  {
   "cell_type": "markdown",
   "metadata": {
    "slideshow": {
     "slide_type": "slide"
    }
   },
   "source": [
    "### INPUT VARIABLES\n",
    "\n",
    "    1    SUBROUTINE hypotenuse(a, b)\n",
    "    2       c_squared = a^2 + b^2\n",
    "    3       c = SQRT(c_squared)\n",
    "    4       RETURN c\n",
    "    5    ENDSUBROUTINE\n",
    "    \n",
    "Number of parameters/input of the function/subroutine: \n",
    "\n",
    "Line number where variable assignement is first used: \n",
    "    \n",
    "    \n",
    "    1    SUBROUTINE is_member(el, arr)\n",
    "    2    FOR i ← 1 TO LEN(arr)\n",
    "    3      IF arr[i] = el THEN\n",
    "    4         # return True as soon as a match is made\n",
    "    5          RETURN True\n",
    "    6      ENDIF\n",
    "    7    ENDFOR\n",
    "    8       # return False if no match has been found\n",
    "    9       RETURN False\n",
    "    10    ENDSUBROUTINE\n",
    "\n",
    "Number of parameters/input of the function/subroutine: \n",
    "\n",
    "Line number where variable assignement is first used: \n",
    "\n",
    "Line number on which iteration starts:\n",
    "\n",
    "Line number on which selection starts:\n",
    "    \n",
    "    1    SUBROUTINE clip(low_limit, high_limit, arr)\n",
    "    2       FOR i ← 1 TO LEN(arr)\n",
    "    3      IF arr[i] < low_limit THEN\n",
    "    4         arr[i] ← low_limit\n",
    "    5      ELSE IF arr[i] > high_limit THEN\n",
    "    6         arr[i] ← high_limit\n",
    "    7    ENDIF ENDFOR\n",
    "    8       RETURN arr\n",
    "    9    ENDSUBROUTINE\n",
    "    \n",
    "Number of parameters/input of the subroutine: \n",
    "\n",
    "Line number where variable assignement is first used: \n",
    "\n",
    "Line number on which iteration starts:\n",
    "\n",
    "Line number on which selection starts:"
   ]
  },
  {
   "cell_type": "markdown",
   "metadata": {
    "slideshow": {
     "slide_type": "slide"
    }
   },
   "source": [
    "#### Examples of calling these subroutines\n",
    "\n",
    "    hyp ← hypotenuse(3.0, 4.0)\n",
    "    found ← is_member(hyp, [3.0, 4.0, 5.0])\n",
    "    signal ← [1.1, 3.5, 0.9, 2.5, 1.5, 4.2]\n",
    "    clipped_signal ← clip(1.0, 3.0, signal)"
   ]
  },
  {
   "cell_type": "code",
   "execution_count": null,
   "metadata": {
    "collapsed": true,
    "slideshow": {
     "slide_type": "slide"
    }
   },
   "outputs": [],
   "source": [
    "# Write the previous examples in Python and check your answers:"
   ]
  },
  {
   "cell_type": "markdown",
   "metadata": {
    "slideshow": {
     "slide_type": "slide"
    }
   },
   "source": [
    "#### Subroutines without input\n",
    "Subroutines can also take no inputs. The following subroutine displays a message to the user and then gets user input:\n",
    "\n",
    "    SUBROUTINE get_input()\n",
    "       OUTPUT 'Enter a number between 1 and 100'\n",
    "       number ← USERINPUT\n",
    "       RETURN number\n",
    "    ENDSUBROUTINE\n",
    "    \n",
    "How can we improve this subroutine so that we can use it for any given range of numbers?"
   ]
  },
  {
   "cell_type": "markdown",
   "metadata": {
    "slideshow": {
     "slide_type": "slide"
    }
   },
   "source": [
    "#### SUBROUTINES WITHOUT RETURN VALUES\n",
    "As discussed earlier, when a subroutine is called it has the type of its return value (e.g hypotenuse has a real number return type and is_member has a Boolean return type). \n",
    "\n",
    "Any subroutine that returns a value can also be called a function. Some subroutines do not return any values (these are often called procedures) and these usually just involve outputting values. \n",
    "\n",
    "This subroutine takes a number as input, and outputs the first twelve multiples of that number:\n",
    "\n",
    "    SUBROUTINE times_tables(n)\n",
    "       FOR i ← 1 TO 12\n",
    "          multiple ← i * n\n",
    "          OUTPUT multiple\n",
    "       ENDFOR\n",
    "    ENDSUBROUTINE\n",
    "\n",
    "It is a very common mistake to confuse values that are outputted and return values: when this subroutine finishes it does not give anything back or, in other words, this subroutine does not evaluate to a value."
   ]
  },
  {
   "cell_type": "markdown",
   "metadata": {
    "slideshow": {
     "slide_type": "slide"
    }
   },
   "source": [
    "#### MULTIPLE RETURN VALUES\n",
    "\n",
    "Subroutines are only allowed to return one value and this might appear limiting – how would you create one subroutine that asks a user for their username and password and returns them both? "
   ]
  },
  {
   "cell_type": "markdown",
   "metadata": {
    "slideshow": {
     "slide_type": "subslide"
    }
   },
   "source": [
    "The answer is very simple – use a data structure:\n",
    "\n",
    "    SUBROUTINE get_username_and_password()\n",
    "       OUTPUT 'Enter your username'\n",
    "       username ← USERINPUT\n",
    "       OUTPUT 'Enter your password'\n",
    "       password ← USERINPUT\n",
    "       RETURN [username, password]\n",
    "    ENDSUBROUTINE\n",
    "    \n",
    "    details ← get_username_and_password()\n",
    "    username ← details[1]\n",
    "    password ← details[2]"
   ]
  },
  {
   "cell_type": "markdown",
   "metadata": {
    "slideshow": {
     "slide_type": "slide"
    }
   },
   "source": [
    "### EXAM QUESTION\n",
    "\n",
    "        FUNCTION Compare(x,y)\n",
    "          IF x > y THEN\n",
    "            RETURN 1 \n",
    "          ELSE\n",
    "            IF x < y THEN\n",
    "              RETURN -1\n",
    "            ELSE \n",
    "              RETURN 0\n",
    "            ENDIF\n",
    "          ENDIF\n",
    "        ENDFUNCTION\n",
    "        \n",
    "1. The function Compare returns an integer value. Explain why a Boolean return value could not have been used.\n",
    "\n",
    "\n",
    "\n",
    "\n",
    "2. Each of the following expressions evaluates to an integer. Give the integer value for each:\n",
    "\n",
    "    **Compare(4,4)**\n",
    "    \n",
    "    **Compare(1,-1)**\n",
    "    \n",
    "    **Compare(Compare(4,4),Compare(1,-1))**\n",
    "    "
   ]
  },
  {
   "cell_type": "markdown",
   "metadata": {
    "slideshow": {
     "slide_type": "slide"
    }
   },
   "source": [
    "### SCOPE\n",
    "Input parameters and any other variables declared within a subroutine only exist in that subroutine.\n",
    "\n",
    "    SUBROUTINE addTwo(n)\n",
    "       result ← n + 2\n",
    "       RETURN result\n",
    "    SUBROUTINE\n",
    "    x ← addTwo(1)\n",
    "    \n",
    "What is the output of the following instructions?\n",
    "\n",
    "    OUTPUT x       \n",
    "    OUTPUT n       \n",
    "    OUTPUT result  "
   ]
  },
  {
   "cell_type": "markdown",
   "metadata": {
    "slideshow": {
     "slide_type": "slide"
    }
   },
   "source": [
    "### General type of programming errors\n",
    "\n",
    "1. Syntax errors - when some error in the syntax - eg a missing terminating character - prevents the compiler or interpreter from running the code\n",
    "\n",
    "2. Runtime errors - **correctly writing the code** but not declaring a variable before it is used, thus code will be compiled, but the error will cause the code to stop working or produce strange and unpredictable results, or by defining a variable to be 0 and attempting to divide with it!\n",
    "\n",
    "3. Logic errors - something dreadfully wrong with your code so that the program runs, but the output is incorrect"
   ]
  },
  {
   "cell_type": "markdown",
   "metadata": {
    "slideshow": {
     "slide_type": "slide"
    }
   },
   "source": [
    "#### Exam question\n",
    "This code is supposed to find out if a positive integer entered by a user is exactly divisible by the number 3.\n",
    "\n",
    "    1    # user input\n",
    "    2    n ← USERINPUT\n",
    "    3    # check if divisible by 3 \n",
    "    4    WHILE n≥0\n",
    "    5       n ← n–3 \n",
    "    6    ENDWHILE\n",
    "    7    IF n = 0 THEN\n",
    "    8      OUTPUT 'is divisible by 3'\n",
    "    9    ELSE\n",
    "    10      OUTPUT 'is not divisible by 3'\n",
    "    11   ENDIF\n",
    "    \n",
    "The programmer realises there is an error because a user input of 6 incorrectly outputs 'is not divisible by 3'.\n",
    "\n",
    "1. What is the type of the error?\n",
    "\n",
    "2. State the line number of the code containing the mistake that causes this error to occur.\n",
    "\n",
    "3. What change needs to be made to the line of code you have identified in your answer to the code so that the program will work correctly?\n"
   ]
  },
  {
   "cell_type": "markdown",
   "metadata": {
    "slideshow": {
     "slide_type": "notes"
    }
   },
   "source": [
    "Theory material and examples adapted from:\n",
    "**AQA GCSE Companion Draft 1.0\n",
    "Copyright Matthew Walker, 2016\n",
    "Released under Creative Commons Attribution-NonCommercial-ShareAlike 4.0 International (CC BY-NC-SA 4.0). **"
   ]
  }
 ],
 "metadata": {
  "celltoolbar": "Slideshow",
  "kernelspec": {
   "display_name": "Python 3",
   "language": "python",
   "name": "python3"
  },
  "language_info": {
   "codemirror_mode": {
    "name": "ipython",
    "version": 3
   },
   "file_extension": ".py",
   "mimetype": "text/x-python",
   "name": "python",
   "nbconvert_exporter": "python",
   "pygments_lexer": "ipython3",
   "version": "3.4.2"
  }
 },
 "nbformat": 4,
 "nbformat_minor": 0
}
